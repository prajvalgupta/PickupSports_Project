{
 "cells": [
  {
   "cell_type": "code",
<<<<<<< HEAD
   "execution_count": 6,
=======
   "execution_count": 1,
>>>>>>> b5406e327661067118a497a379c3deb49dd08d96
   "metadata": {},
   "outputs": [],
   "source": [
    "# Import sqlite3 module\n",
<<<<<<< HEAD
    "import sqlite3\n",
    "# Connect to the chinook database\n",
    "#db=sqlite3.connect(\"/sqlite/db/chinook.db\")\n",
    "db = sqlite3.connect(\"APAD_proj.db\")\n",
    "conn = db.cursor()"
=======
    "import sqlite3"
   ]
  },
  {
   "cell_type": "code",
   "execution_count": 2,
   "metadata": {},
   "outputs": [],
   "source": [
    "# Connect to the chinook database\n",
    "#db=sqlite3.connect(\"/sqlite/db/chinook.db\")\n",
    "db = sqlite3.connect(\"APAD_proj.db\")"
>>>>>>> b5406e327661067118a497a379c3deb49dd08d96
   ]
  },
  {
   "cell_type": "code",
   "execution_count": 3,
   "metadata": {},
   "outputs": [
    {
     "ename": "OperationalError",
     "evalue": "table user already exists",
     "output_type": "error",
     "traceback": [
      "\u001b[1;31m---------------------------------------------------------------------------\u001b[0m",
      "\u001b[1;31mOperationalError\u001b[0m                          Traceback (most recent call last)",
      "\u001b[1;32m<ipython-input-3-4b47df8138e6>\u001b[0m in \u001b[0;36m<module>\u001b[1;34m\u001b[0m\n\u001b[0;32m      8\u001b[0m                     \u001b[0mzip_code\u001b[0m \u001b[0mINTEGER\u001b[0m\u001b[1;33m(\u001b[0m\u001b[1;36m5\u001b[0m\u001b[1;33m)\u001b[0m \u001b[0mNOT\u001b[0m \u001b[0mNULL\u001b[0m\u001b[1;33m,\u001b[0m\u001b[1;33m\u001b[0m\u001b[1;33m\u001b[0m\u001b[0m\n\u001b[0;32m      9\u001b[0m                     \u001b[0mpassword\u001b[0m \u001b[0mVARCHAR\u001b[0m\u001b[1;33m(\u001b[0m\u001b[1;36m50\u001b[0m\u001b[1;33m)\u001b[0m \u001b[0mNOT\u001b[0m \u001b[0mNULL\u001b[0m\u001b[1;33m\u001b[0m\u001b[1;33m\u001b[0m\u001b[0m\n\u001b[1;32m---> 10\u001b[1;33m                     ) ''')\n\u001b[0m",
      "\u001b[1;31mOperationalError\u001b[0m: table user already exists"
     ]
    }
   ],
   "source": [
    "conn = db.cursor()\n",
    "conn.execute('''CREATE TABLE user (\n",
    "                    user_id INTEGER PRIMARY KEY AUTOINCREMENT,\n",
    "                    email_id VARCHAR(50) NOT NULL UNIQUE,\n",
    "                    first_name VARCHAR(50),\n",
    "                    last_name VARCHAR(50),\n",
    "                    contact_number VARCHAR(15) NOT NULL UNIQUE,\n",
    "                    zip_code INTEGER(5) NOT NULL,\n",
    "                    password VARCHAR(50) NOT NULL\n",
    "                    ) ''')"
   ]
  },
  {
   "cell_type": "code",
<<<<<<< HEAD
   "execution_count": 4,
   "metadata": {},
   "outputs": [
    {
     "ename": "OperationalError",
     "evalue": "table venue already exists",
     "output_type": "error",
     "traceback": [
      "\u001b[1;31m---------------------------------------------------------------------------\u001b[0m",
      "\u001b[1;31mOperationalError\u001b[0m                          Traceback (most recent call last)",
      "\u001b[1;32m<ipython-input-4-79dd1c55be79>\u001b[0m in \u001b[0;36m<module>\u001b[1;34m\u001b[0m\n\u001b[0;32m      6\u001b[0m                     \u001b[0mcontact_number\u001b[0m \u001b[0mVARCHAR\u001b[0m\u001b[1;33m(\u001b[0m\u001b[1;36m15\u001b[0m\u001b[1;33m)\u001b[0m\u001b[1;33m,\u001b[0m\u001b[1;33m\u001b[0m\u001b[1;33m\u001b[0m\u001b[0m\n\u001b[0;32m      7\u001b[0m                     \u001b[0mdescription\u001b[0m \u001b[0mVARCHAR\u001b[0m\u001b[1;33m(\u001b[0m\u001b[1;36m200\u001b[0m\u001b[1;33m)\u001b[0m\u001b[1;33m\u001b[0m\u001b[1;33m\u001b[0m\u001b[0m\n\u001b[1;32m----> 8\u001b[1;33m                     ) ''')\n\u001b[0m",
      "\u001b[1;31mOperationalError\u001b[0m: table venue already exists"
     ]
=======
   "execution_count": 10,
   "metadata": {},
   "outputs": [
    {
     "data": {
      "text/plain": [
       "<sqlite3.Cursor at 0x10ff87490>"
      ]
     },
     "execution_count": 10,
     "metadata": {},
     "output_type": "execute_result"
>>>>>>> b5406e327661067118a497a379c3deb49dd08d96
    }
   ],
   "source": [
    "conn.execute('''CREATE TABLE venue (\n",
    "                    venue_id INTEGER PRIMARY KEY AUTOINCREMENT,\n",
    "                    venue_name VARCHAR(50) NOT NULL,\n",
    "                    address VARCHAR(100) NOT NULL,\n",
    "                    zip_code INTEGER(5) NOT NULL,\n",
    "                    contact_number VARCHAR(15),\n",
<<<<<<< HEAD
    "                    description VARCHAR(200) \n",
=======
    "                    description VARCHAR(200),\n",
    "                    open_time TIME NOT NULL,\n",
    "                    close_time TIME NOT NULL,\n",
    "                    games_total_count INTEGER NOT NULL,\n",
    "                    games_available_count INTEGER NOT NULL\n",
>>>>>>> b5406e327661067118a497a379c3deb49dd08d96
    "                    ) ''')"
   ]
  },
  {
   "cell_type": "code",
   "execution_count": 5,
   "metadata": {},
   "outputs": [
    {
     "ename": "OperationalError",
     "evalue": "table event_category already exists",
     "output_type": "error",
     "traceback": [
      "\u001b[1;31m---------------------------------------------------------------------------\u001b[0m",
      "\u001b[1;31mOperationalError\u001b[0m                          Traceback (most recent call last)",
      "\u001b[1;32m<ipython-input-5-e75bf53911f1>\u001b[0m in \u001b[0;36m<module>\u001b[1;34m\u001b[0m\n\u001b[0;32m      2\u001b[0m                     \u001b[0mevent_cat_id\u001b[0m \u001b[0mINTEGER\u001b[0m \u001b[0mPRIMARY\u001b[0m \u001b[0mKEY\u001b[0m\u001b[1;33m,\u001b[0m\u001b[1;33m\u001b[0m\u001b[1;33m\u001b[0m\u001b[0m\n\u001b[0;32m      3\u001b[0m                     \u001b[0mevent_category_name\u001b[0m \u001b[0mVARCHAR\u001b[0m\u001b[1;33m(\u001b[0m\u001b[1;36m50\u001b[0m\u001b[1;33m)\u001b[0m \u001b[1;32mnot\u001b[0m \u001b[0mnull\u001b[0m\u001b[1;33m\u001b[0m\u001b[1;33m\u001b[0m\u001b[0m\n\u001b[1;32m----> 4\u001b[1;33m                     ) ''')\n\u001b[0m",
      "\u001b[1;31mOperationalError\u001b[0m: table event_category already exists"
     ]
    }
   ],
   "source": [
    "conn.execute('''CREATE TABLE event_category (\n",
    "                    event_cat_id INTEGER PRIMARY KEY,\n",
    "                    event_category_name VARCHAR(50) not null \n",
    "                    ) ''')"
   ]
  },
  {
   "cell_type": "code",
   "execution_count": 6,
   "metadata": {},
   "outputs": [
    {
     "data": {
      "text/plain": [
       "<sqlite3.Cursor at 0x19575259e30>"
      ]
     },
     "execution_count": 6,
     "metadata": {},
     "output_type": "execute_result"
    }
   ],
   "source": [
    "conn.execute('''CREATE TABLE sports_cat(\n",
    "                sports_cat_id INTEGER PRIMARY KEY AUTOINCREMENT,\n",
    "                sport_name VARCHAR(50) NOT NULL,\n",
    "                player_count INTEGER,\n",
    "                euip_req_flag INTEGER,\n",
    "                sport_desc VARCHAR(200)\n",
    "                )''')"
   ]
  },
  {
   "cell_type": "code",
   "execution_count": 7,
   "metadata": {},
   "outputs": [
    {
     "data": {
      "text/plain": [
       "<sqlite3.Cursor at 0x19575259e30>"
      ]
     },
     "execution_count": 7,
     "metadata": {},
     "output_type": "execute_result"
    }
   ],
   "source": [
    "conn.execute('''CREATE TABLE feedback(ticket_id INTEGER UNIQUE,\n",
    "                subject VARCHAR(50),\n",
    "                description VARCHAR(100),\n",
    "                user_id INTEGER,\n",
    "                email_id VARCHAR(50),\n",
    "                FOREIGN KEY(user_id) REFERENCES user(user_id)\n",
    "                )''')"
   ]
  },
  {
   "cell_type": "code",
   "execution_count": 8,
   "metadata": {},
   "outputs": [
    {
     "data": {
      "text/plain": [
       "<sqlite3.Cursor at 0x19575259e30>"
      ]
     },
     "execution_count": 8,
     "metadata": {},
     "output_type": "execute_result"
    }
   ],
   "source": [
    "conn.execute('''CREATE TABLE events(event_id INTEGER PRIMARY KEY AUTOINCREMENT, \n",
    "                event_cat_id INTEGER NOT NULL, \n",
    "                venue_id INTEGER NOT NULL, \n",
    "                event_name VARCHAR(100) NOT NULL, \n",
    "                date DATE, \n",
    "                start_time TIME, \n",
    "                end_time TIME, \n",
    "                user_id INTEGER NOT NULL, \n",
    "                host_flag INTEGER,\n",
    "                member_flag INTEGER,\n",
    "                sports_cat_id INTEGER,\n",
    "                event_desc VARCHAR(200),\n",
    "                capacity_avail INTEGER,\n",
    "                FOREIGN KEY(user_id) REFERENCES user(user_id),\n",
    "                FOREIGN KEY(event_cat_id) REFERENCES event_category(event_cat_id),\n",
    "                FOREIGN KEY(venue_id) REFERENCES venue(venue_id)\n",
    "                FOREIGN KEY(sports_cat_id) REFERENCES sports_cat(sports_cat_id)\n",
    "                )''')"
   ]
  },
  {
   "cell_type": "code",
<<<<<<< HEAD
   "execution_count": 9,
=======
   "execution_count": 11,
>>>>>>> b5406e327661067118a497a379c3deb49dd08d96
   "metadata": {},
   "outputs": [],
   "source": [
    "db.commit()"
   ]
  },
  {
   "cell_type": "code",
<<<<<<< HEAD
   "execution_count": 7,
   "metadata": {},
   "outputs": [
    {
     "ename": "OperationalError",
     "evalue": "database is locked",
     "output_type": "error",
     "traceback": [
      "\u001b[1;31m---------------------------------------------------------------------------\u001b[0m",
      "\u001b[1;31mOperationalError\u001b[0m                          Traceback (most recent call last)",
      "\u001b[1;32m<ipython-input-7-d64b6789771c>\u001b[0m in \u001b[0;36m<module>\u001b[1;34m\u001b[0m\n\u001b[0;32m      1\u001b[0m \u001b[0mconn\u001b[0m \u001b[1;33m=\u001b[0m \u001b[0mdb\u001b[0m\u001b[1;33m.\u001b[0m\u001b[0mcursor\u001b[0m\u001b[1;33m(\u001b[0m\u001b[1;33m)\u001b[0m\u001b[1;33m\u001b[0m\u001b[1;33m\u001b[0m\u001b[0m\n\u001b[1;32m----> 2\u001b[1;33m \u001b[0mconn\u001b[0m\u001b[1;33m.\u001b[0m\u001b[0mexecute\u001b[0m\u001b[1;33m(\u001b[0m\u001b[1;34m'''DELETE FROM venue'''\u001b[0m\u001b[1;33m)\u001b[0m\u001b[1;33m\u001b[0m\u001b[1;33m\u001b[0m\u001b[0m\n\u001b[0m\u001b[0;32m      3\u001b[0m \u001b[1;33m\u001b[0m\u001b[0m\n\u001b[0;32m      4\u001b[0m \u001b[1;31m#conn.execute('''ALTER TABLE venue ADD open_time TIME NOT NULL''')\u001b[0m\u001b[1;33m\u001b[0m\u001b[1;33m\u001b[0m\u001b[1;33m\u001b[0m\u001b[0m\n\u001b[0;32m      5\u001b[0m \u001b[1;31m#conn.execute('''ALTER TABLE venue ADD close_time TIME NOT NULL''')\u001b[0m\u001b[1;33m\u001b[0m\u001b[1;33m\u001b[0m\u001b[1;33m\u001b[0m\u001b[0m\n",
      "\u001b[1;31mOperationalError\u001b[0m: database is locked"
     ]
    }
   ],
   "source": [
    "conn = db.cursor()\n",
    "conn.execute('''DELETE FROM venue''')\n",
    "DB.COMMIT() #delete existing entries first to use not null on new columns\n",
    "conn.execute('''ALTER TABLE venue ADD open_time TIME NOT NULL''')\n",
    "conn.execute('''ALTER TABLE venue ADD close_time TIME NOT NULL''')\n",
    "conn.execute('''ALTER TABLE venue ADD games_total_count INTEGER NOT NULL''')\n",
    "conn.execute('''ALTER TABLE venue ADD games_available_count INTEGER NOT NULL''')\n"
=======
   "execution_count": 9,
   "metadata": {},
   "outputs": [],
   "source": [
    "conn = db.cursor()\n",
    "conn.execute('''DROP TABLE venue''')\n",
    "db.commit() #delete existing entries first to use not null on new columns\n"
>>>>>>> b5406e327661067118a497a379c3deb49dd08d96
   ]
  },
  {
   "cell_type": "code",
   "execution_count": null,
   "metadata": {},
   "outputs": [],
<<<<<<< HEAD
   "source": [
    "DB.COMMIT()"
   ]
=======
   "source": []
  },
  {
   "cell_type": "code",
   "execution_count": null,
   "metadata": {},
   "outputs": [],
   "source": []
>>>>>>> b5406e327661067118a497a379c3deb49dd08d96
  }
 ],
 "metadata": {
  "kernelspec": {
   "display_name": "Python 3",
   "language": "python",
   "name": "python3"
  },
  "language_info": {
   "codemirror_mode": {
    "name": "ipython",
    "version": 3
   },
   "file_extension": ".py",
   "mimetype": "text/x-python",
   "name": "python",
   "nbconvert_exporter": "python",
   "pygments_lexer": "ipython3",
   "version": "3.7.3"
  }
 },
 "nbformat": 4,
 "nbformat_minor": 2
}
