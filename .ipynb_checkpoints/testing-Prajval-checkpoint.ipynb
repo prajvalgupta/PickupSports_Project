{
 "cells": [
  {
   "cell_type": "code",
   "execution_count": 1,
   "metadata": {},
   "outputs": [],
   "source": [
    "import sqlite3\n",
    "db = sqlite3.connect(\"APAD_proj.db\")"
   ]
  },
  {
   "cell_type": "code",
   "execution_count": 2,
   "metadata": {},
   "outputs": [],
   "source": [
    "def email_check(db,email):\n",
    "    cursor = db.cursor()\n",
    "    while(1):\n",
    "        findEmail = '''SELECT * FROM user where email_id = ?'''\n",
    "        cursor.execute(findEmail, (email,))\n",
    "        if cursor.fetchall():\n",
    "            print(\"Email already registered, enter again\")\n",
    "            email = str(input(\"Please provide your email-address: \"))\n",
    "        else:\n",
    "            return email\n"
   ]
  },
  {
   "cell_type": "code",
   "execution_count": 3,
   "metadata": {},
   "outputs": [],
   "source": [
    "def admin_check(db,email):\n",
    "    cursor = db.cursor()\n",
    "    findEmail = '''SELECT email_id FROM user where first_name = ?'''\n",
    "    cursor.execute(findEmail, (\"admin\",))\n",
    "    admin = cursor.fetchone()[0]\n",
    "#     print(admin)\n",
    "    while email != admin:\n",
    "        print(\"Only admin is authorized to add a venue\")\n",
    "        email = str(input(\"Enter the admin's email address: \"))\n",
    "    \n",
    "    return email\n",
    "\n"
   ]
  },
  {
   "cell_type": "code",
   "execution_count": 4,
   "metadata": {},
   "outputs": [],
   "source": [
    "def password_verify(pwd):\n",
    "    while pwd[0]!=pwd[1]:\n",
    "        print(\"Your passwords didn't match, enter again\")\n",
    "        pwd[0] = str(input(\"Enter the password: \")) # NEED to add constraints\n",
    "        pwd[1] = str(input(\"Enter the password again to recheck: \"))\n",
    "    return pwd[0], pwd[1]\n",
    "        "
   ]
  },
  {
   "cell_type": "code",
   "execution_count": 5,
   "metadata": {},
   "outputs": [],
   "source": [
    "def new_user(db, inputs):\n",
    "\n",
    "    cursor = db.cursor()\n",
    "    query = '''INSERT INTO user(email_id,first_name,last_name,contact_number, zip_code, password)\n",
    "                    VALUES(?,?,?,?,?,?)'''\n",
    "\n",
    "    cursor.execute(query, (inputs[:6]))  \n",
    "    db.commit()\n"
   ]
  },
  {
   "cell_type": "code",
   "execution_count": 6,
   "metadata": {},
   "outputs": [],
   "source": [
    "def user_input_form():\n",
    "    email = str(input(\"Please provide your email-address: \"))\n",
    "    email = email_check(db, email)\n",
    "    first_name = str(input(\"Please Enter your first name: \"))\n",
    "    last_name = str(input(\"Please Enter your last name: \"))\n",
    "    contact_number = str(input(\"Please provide a valid contact number: \"))\n",
    "    zip_code = str(input(\"Your zip code: \"))\n",
    "    password = str(input(\"Enter the password: \")) # NEED to add constraints\n",
    "    password_check = str(input(\"Enter the password again to recheck: \"))\n",
    "    pwd = [password, password_check]\n",
    "    password, password_check = password_verify(pwd)\n",
    "    inputs = [email, first_name, last_name, contact_number, zip_code, password, password_check]\n",
    "    \n",
    "    return inputs"
   ]
  },
  {
   "cell_type": "code",
   "execution_count": null,
   "metadata": {},
   "outputs": [],
   "source": [
    "# Single User input\n",
    "\n",
    "inputs = user_input_form()\n",
    "new_user(db, inputs)"
   ]
  },
  {
   "cell_type": "code",
   "execution_count": 7,
   "metadata": {},
   "outputs": [],
   "source": [
    "def new_venue(db, inputs):\n",
    "    \n",
    "    cursor = db.cursor()\n",
    "    \n",
    "    query = '''INSERT INTO venue(venue_name, address, zip_code, contact_number, description, open_time, close_time, games_total_count, games_available_count)\n",
    "                VALUES(?,?,?,?,?,?,?,?,?)'''\n",
    "\n",
    "    # cursor = db.cursor()\n",
    "    cursor.execute(query, inputs_venue[1:]) \n",
    "    db.commit()\n"
   ]
  },
  {
   "cell_type": "code",
   "execution_count": 8,
   "metadata": {},
   "outputs": [],
   "source": [
    "def add_venue_form():\n",
    "    email = str(input(\"Please enter your email address: \"))\n",
    "    email1 = admin_check(db,email)\n",
    "    venue_name = str(input(\"Please Enter the venue name: \"))\n",
    "    address = str(input(\"Please Enter the venue address: \"))\n",
    "    zip_code = str(input(\"Venue zip code: \"))\n",
    "    contact_number = str(input(\"Please provide a contact number: \"))\n",
    "    description = str(input(\"Enter the venue description (not more than 200 characters): \")) # Need to limit the length of input\n",
    "    open_time = str(input(\"Please Enter the start time in hrs: \"))\n",
    "    close_time   = str(input(\"Please Enter the end time in hrs: \"))\n",
    "    games_total_count = int(input(\"Please enter the total number of games that can be played in single time slot: \"))\n",
    "#     games_available_count = int(input(\"Please enter the available number of games that can be played in single time slot: \"))\n",
    "    games_available_count = 0\n",
    "    inputs_venue = [email1,venue_name,address,zip_code,contact_number,description,open_time,close_time,games_total_count, games_available_count]\n",
    "    return inputs_venue"
   ]
  },
  {
   "cell_type": "code",
   "execution_count": null,
   "metadata": {},
   "outputs": [],
   "source": [
    "inputs_venue = add_venue_form()\n",
    "new_venue(db, inputs_venue)"
   ]
  },
  {
   "cell_type": "code",
   "execution_count": 9,
   "metadata": {},
   "outputs": [],
   "source": [
    "def email_verify(db, email):\n",
    "    cursor = db.cursor()\n",
    "    \n",
    "    findEmail = '''SELECT email_id FROM user where email_id = ?'''\n",
    "    cursor.execute(findEmail, (email,))\n",
    "    \n",
    "    if cursor.fetchall():\n",
    "        return email\n",
    "    else:\n",
    "        print(\"You can't create an event yet. Create an account first\")\n",
    "        inputs = user_input_form()\n",
    "        new_user(db, inputs)\n",
    "        return inputs[0]"
   ]
  },
  {
   "cell_type": "code",
   "execution_count": 10,
   "metadata": {},
   "outputs": [],
   "source": [
    "def fetch_event_cat(cursor):\n",
    "    event_cat_query = '''SELECT event_category_name FROM event_category'''\n",
    "    cursor.execute(event_cat_query)\n",
    "    event_cat = cursor.fetchall()\n",
    "    print(\"Please select a category from the following: \") \n",
    "    for i in range(len(event_cat)):\n",
    "        print(str(i) +\":\" + event_cat[i])\n",
    "    \n",
    "    "
   ]
  },
  {
   "cell_type": "code",
   "execution_count": 11,
   "metadata": {},
   "outputs": [],
   "source": [
    "def fetch_venue(cursor):\n",
    "    venue_query = '''SELECT venue_name FROM venue'''\n",
    "    cursor.execute(venue_query)\n",
    "    venues = cursor.fetchall()\n",
    "    print(\"Please select a venue from the following: \") \n",
    "    for i in range(len(venues)):\n",
    "        print(str(i) +\":\" + venues[i])\n",
    "    return venues"
   ]
  },
  {
   "cell_type": "code",
   "execution_count": 12,
   "metadata": {},
   "outputs": [],
   "source": [
    "def fetch_sport(cursor):\n",
    "    sport_query = '''SELECT sport_name FROM sports_cat'''\n",
    "    cursor.execute(sport_query)\n",
    "    sports = cursor.fetchall()\n",
    "    print(\"Please select a sport from the following: \") \n",
    "    for i in range(len(sports)):\n",
    "        print(str(i) +\":\" + sports[i])\n",
    "    return sports"
   ]
  },
  {
   "cell_type": "code",
   "execution_count": 13,
   "metadata": {},
   "outputs": [],
   "source": [
    "def new_event(db,inputs):\n",
    "    \n",
    "    cursor = db.cursor()\n",
    "\n",
    "    if inputs[9] == \"create\":\n",
    "\n",
    "        host_insert_flag = '''INSERT INTO events(event_cat_id,venue_id,event_name, date, start_time,end_time,\n",
    "                                              user_id, host_flag, member_flag, sports_cat_id, event_desc, capacity_avail)\n",
    "                       VALUES(?,?,?,?,?,?,?,?,?,?,?,?)'''\n",
    "\n",
    "\n",
    "        cursor.execute(host_insert_flag, (inputs[7],inputs[8],inputs[1],inputs[2],inputs[3],inputs[4],inputs[0],1,0,inputs[10],inputs[5], inputs[6]))  \n",
    "\n",
    "        db.commit()\n",
    "        \n",
    "        # -1 the count of games_available count in venue table\n",
    "        \n",
    "        update_game_avail_ct  = '''UPDATE venue SET games_available_count = ? WHERE venue_id = ?'''\n",
    "        cursor.execute(update_game_avail_ct,(inputs[11]-1,inputs[8]))\n",
    "        db.commit()\n",
    "\n",
    "\n",
    "    elif inputs[9] == \"join\":\n",
    "\n",
    "        find_event = '''SELECT * FROM events where date = ?\n",
    "                            and start_time = ? and end_time = ?'''\n",
    "        cursor.execute(find_event, (inputs[2], inputs[3], inputs[4],))\n",
    "        p = cursor.fetchall()\n",
    "    else:\n",
    "        print(\"enter a valid option\")"
   ]
  },
  {
   "cell_type": "code",
   "execution_count": 14,
   "metadata": {},
   "outputs": [],
   "source": [
    "def event_create_inputs(db):\n",
    "    \n",
    "    count = 0\n",
    "    cursor = db.cursor()\n",
    "    db.row_factory = lambda cursor, row: row[0]\n",
    "    #Input the email of the user\n",
    "    email = str(input(\"Please provide your email-address: \"))\n",
    "\n",
    "    #Check if it's an existing user\n",
    "    email = email_verify(db,email)\n",
    "    \n",
    "    create_or_join = str(input(\"Do you want to create/join the game: \")).lower()\n",
    "    \n",
    "    #Get the user_id from the database\n",
    "    user_id_query = '''SELECT user_id FROM user where email_id = ?'''\n",
    "    cursor.execute(user_id_query, (email,))\n",
    "    user_id = cursor.fetchone()\n",
    "    \n",
    "    event_name = str(input(\"Please Enter the event name: \"))\n",
    "    \n",
    "    #Fetch the list of sports \n",
    "    sports = fetch_sport(cursor)\n",
    "    \n",
    "    #Input for sport. Only accept if it exists!\n",
    "    while(1):\n",
    "        sport_name = str(input(\"Please Enter the sport name: \"))\n",
    "        for i in sports:\n",
    "            if (sport_name == i):\n",
    "                count=1\n",
    "                break\n",
    "        if count==1:\n",
    "            break\n",
    "        else:\n",
    "            print(\"Please enter the correct sport from choices above!\")\n",
    "\n",
    "    #Get the sport id from the database\n",
    "    sports_cat_id_query = '''SELECT sports_cat_id FROM sports_cat where sport_name = ?'''\n",
    "    cursor.execute(sports_cat_id_query, (sport_name,))\n",
    "    sports_cat_id = cursor.fetchone()\n",
    "    \n",
    "    event_date = str(input(\"Please Enter the event date: \"))\n",
    "    start_time = str(input(\"Please Enter the start time in hrs: \"))\n",
    "    end_time   = str(input(\"Please Enter the end time in hrs: \"))\n",
    "    event_desc = str(input(\"Please Enter the event description: \"))\n",
    "    capacity   = str(input(\"Please Enter the capacity avail: \"))\n",
    "    \n",
    "    #Fetch all event categories\n",
    "    fetch_event_cat(cursor)\n",
    "    \n",
    "    #Input for event category. Only accept if it exists!\n",
    "    while(1):\n",
    "        event_category_name = str(input(\"Please Enter the event category name : \"))\n",
    "        if (event_category_name == \"watch\" or event_category_name == \"play\" or event_category_name == \"workshop\" ):\n",
    "            break\n",
    "        else:\n",
    "            print(\"Please enter the right category from choices above!\")\n",
    "    \n",
    "    #Get the Event cat id from the database\n",
    "    event_cat_id_query = '''SELECT event_cat_id FROM event_category where event_category_name = ?'''\n",
    "    cursor.execute(event_cat_id_query, (event_category_name,))\n",
    "    event_cat_id = cursor.fetchone()\n",
    "    \n",
    "    #Fetch all the venues\n",
    "    venues = fetch_venue(cursor)\n",
    "    \n",
    "    #Input for venue. Only accept if it exists!\n",
    "    count=0\n",
    "    while(1):\n",
    "        venue_name = str(input(\"Please Enter the venue name: \"))\n",
    "        for i in venues:\n",
    "            if (venue_name == i):\n",
    "                count=1\n",
    "                break\n",
    "        if count==1:\n",
    "            break\n",
    "        else:\n",
    "            print(\"Please enter the correct venue from choices above!\")\n",
    "    \n",
    "    #Get the venue id from the database\n",
    "    venue_id_query = '''SELECT venue_id FROM venue where venue_name = ?'''\n",
    "    cursor.execute(venue_id_query, (venue_name,))\n",
    "    venue_id = cursor.fetchone()\n",
    "    \n",
    "    #Get the available no. of game counts from a venue\n",
    "    venue_count_query = '''SELECT games_available_count FROM venue where venue_id = ?'''\n",
    "    cursor.execute(venue_count_query, (venue_id,))\n",
    "    games_avail_count = cursor.fetchone()\n",
    "    \n",
    "    inputs = [user_id,event_name,event_date,start_time,end_time,event_desc,capacity,event_cat_id,venue_id,create_or_join,sports_cat_id, games_avail_count]\n",
    "    \n",
    "    return inputs"
   ]
  },
  {
   "cell_type": "code",
   "execution_count": null,
   "metadata": {},
   "outputs": [],
   "source": [
    "cursor = db.cursor()\n",
    "db.row_factory = lambda cursor, row: row[0]"
   ]
  },
  {
   "cell_type": "code",
   "execution_count": null,
   "metadata": {},
   "outputs": [],
   "source": [
    "inputs2 = event_create_inputs(db)\n",
    "if inputs2:\n",
    "    new_event(db,inputs2)"
   ]
  },
  {
   "cell_type": "code",
   "execution_count": null,
   "metadata": {},
   "outputs": [],
   "source": []
  },
  {
   "cell_type": "code",
   "execution_count": 16,
   "metadata": {},
   "outputs": [],
   "source": [
    "import datetime"
   ]
  },
  {
   "cell_type": "code",
   "execution_count": 15,
   "metadata": {},
   "outputs": [],
   "source": [
    "cursor=db.cursor()"
   ]
  },
  {
   "cell_type": "code",
   "execution_count": 17,
   "metadata": {},
   "outputs": [],
   "source": [
    "def fetch_venue_time(cursor):\n",
    "    \n",
    "    venue_avail_query = '''SELECT open_time, close_time FROM venue where venue_name = ?'''\n",
    "    cursor.execute(venue_avail_query, (\"Zilker Park\",) )\n",
    "    venues = cursor.fetchall()\n",
    "#     print(\"Please select a venue from the following: \") \n",
    "#     for i in range(len(venues)):\n",
    "#         print(str(i) +\":\" + venues[i])\n",
    "    return venues"
   ]
  },
  {
   "cell_type": "code",
   "execution_count": 18,
   "metadata": {},
   "outputs": [],
   "source": [
    "def fetch_event_time(cursor):\n",
    "    \n",
    "    event_avail_query = '''SELECT start_time, end_time FROM venue, events where venue.venue_id = events.venue_id AND event_name = ? OR event_name = ?'''\n",
    "    cursor.execute(event_avail_query, (\"Tennis at Zilker\",\"Cricket\") )\n",
    "    events = cursor.fetchall()\n",
    "#     print(\"Please select a venue from the following: \") \n",
    "#     for i in range(len(venues)):\n",
    "#         print(str(i) +\":\" + venues[i])\n",
    "    return events"
   ]
  },
  {
   "cell_type": "code",
   "execution_count": 19,
   "metadata": {},
   "outputs": [],
   "source": [
    "def fetch_avail_slot(cursor):\n",
    "    \n",
    "    venue_avail_query = '''SELECT games_total_count, games_available_count FROM venue where venue_name = ?'''\n",
    "    cursor.execute(venue_avail_query, (\"Zilker Park\",) )\n",
    "    count = cursor.fetchone()\n",
    "#     print(\"Please select a venue from the following: \") \n",
    "#     for i in range(len(venues)):\n",
    "#         print(str(i) +\":\" + venues[i])\n",
    "    return count"
   ]
  },
  {
   "cell_type": "code",
   "execution_count": 20,
   "metadata": {},
   "outputs": [],
   "source": [
    "venues = fetch_venue_time(cursor)"
   ]
  },
  {
   "cell_type": "code",
   "execution_count": 21,
   "metadata": {},
   "outputs": [
    {
     "data": {
      "text/plain": [
       "[(7, 20)]"
      ]
     },
     "execution_count": 21,
     "metadata": {},
     "output_type": "execute_result"
    }
   ],
   "source": [
    "venues"
   ]
  },
  {
   "cell_type": "code",
   "execution_count": 22,
   "metadata": {},
   "outputs": [
    {
     "data": {
      "text/plain": [
       "[(13, 18), (10, 14)]"
      ]
     },
     "execution_count": 22,
     "metadata": {},
     "output_type": "execute_result"
    }
   ],
   "source": [
    "fetch_event_time(cursor)"
   ]
  },
  {
   "cell_type": "code",
   "execution_count": 23,
   "metadata": {},
   "outputs": [
    {
     "data": {
      "text/plain": [
       "(4, 1)"
      ]
     },
     "execution_count": 23,
     "metadata": {},
     "output_type": "execute_result"
    }
   ],
   "source": [
    "games_avail_count = fetch_avail_slot(cursor)\n",
    "games_avail_count"
   ]
  },
  {
   "cell_type": "code",
   "execution_count": 24,
   "metadata": {
    "scrolled": true
   },
   "outputs": [
    {
     "name": "stdout",
     "output_type": "stream",
     "text": [
      "2019-07-27\n",
      "1\n",
      "1\n"
     ]
    },
    {
     "data": {
      "text/plain": [
       "[(datetime.datetime(2019, 7, 27, 13, 0),\n",
       "  datetime.datetime(2019, 7, 27, 18, 0)),\n",
       " (datetime.datetime(2019, 7, 27, 10, 0),\n",
       "  datetime.datetime(2019, 7, 27, 14, 0))]"
      ]
     },
     "execution_count": 24,
     "metadata": {},
     "output_type": "execute_result"
    }
   ],
   "source": [
    "booked_slots = []\n",
    "\n",
    "event_date = datetime.datetime.strptime(\"2019-07-27\", '%Y-%m-%d').date()\n",
    "\n",
    "print(event_date)\n",
    "open_time = str(venues[0][0])\n",
    "close_time = str(venues[0][1])\n",
    "\n",
    "open_time = datetime.datetime.strptime(open_time, '%H').time()\n",
    "close_time = datetime.datetime.strptime(close_time, '%H').time()\n",
    "\n",
    "event_times = fetch_event_time(cursor)\n",
    "\n",
    "for i in event_times:\n",
    "    start_time = str(i[0]) \n",
    "    end_time = str(i[1])\n",
    "    \n",
    "#     print(start_time, end_time)\n",
    "#     print(event_date)\n",
    "\n",
    "    start_time = datetime.datetime.strptime(start_time, '%H').time()\n",
    "    end_time = datetime.datetime.strptime(end_time, '%H').time()\n",
    "#     print(start_time, end_time)\n",
    "#     print(\"Hey\")\n",
    "#     booked_slots= [((datetime.datetime.combine(event_date,start_time)), (datetime.datetime.combine(event_date,end_time)))]\n",
    "#     print(booked_slots)\n",
    "#     print(datetime.datetime.combine(event_date,start_time).date()\n",
    "    booked_slots.append(((datetime.datetime.combine(event_date,start_time)), (datetime.datetime.combine(event_date,end_time))))\n",
    "    print(\"1\")\n",
    "booked_slots"
   ]
  },
  {
   "cell_type": "code",
   "execution_count": null,
   "metadata": {},
   "outputs": [],
   "source": []
  },
  {
   "cell_type": "code",
   "execution_count": 25,
   "metadata": {},
   "outputs": [
    {
     "data": {
      "text/plain": [
       "[datetime.datetime(1900, 1, 1, 9, 0),\n",
       " datetime.datetime(1900, 1, 1, 10, 0),\n",
       " datetime.datetime(1900, 1, 1, 11, 0),\n",
       " datetime.datetime(1900, 1, 1, 12, 0),\n",
       " datetime.datetime(1900, 1, 1, 13, 0),\n",
       " datetime.datetime(1900, 1, 1, 14, 0),\n",
       " datetime.datetime(1900, 1, 1, 15, 0),\n",
       " datetime.datetime(1900, 1, 1, 16, 0),\n",
       " datetime.datetime(1900, 1, 1, 17, 0),\n",
       " datetime.datetime(1900, 1, 1, 18, 0)]"
      ]
     },
     "execution_count": 25,
     "metadata": {},
     "output_type": "execute_result"
    }
   ],
   "source": [
    "start_time = '9:00'\n",
    "end_time = '18:00'\n",
    "time = datetime.datetime.strptime(start_time, '%H:%M')\n",
    "end = datetime.datetime.strptime(end_time, '%H:%M')\n",
    "hours = []\n",
    "\n",
    "while time <= end:\n",
    "    hours.append(time)\n",
    "    time += datetime.timedelta(hours=1)\n",
    "    \n",
    "hours"
   ]
  },
  {
   "cell_type": "code",
   "execution_count": null,
   "metadata": {},
   "outputs": [],
   "source": []
  },
  {
   "cell_type": "code",
   "execution_count": 26,
   "metadata": {},
   "outputs": [],
   "source": [
    "from datetime import timedelta"
   ]
  },
  {
   "cell_type": "code",
   "execution_count": 27,
   "metadata": {},
   "outputs": [
    {
     "data": {
      "text/plain": [
       "(datetime.datetime(2019, 7, 27, 7, 0), datetime.datetime(2019, 7, 27, 20, 0))"
      ]
     },
     "execution_count": 27,
     "metadata": {},
     "output_type": "execute_result"
    }
   ],
   "source": [
    "total_hours = ((datetime.datetime.combine(event_date,open_time)), (datetime.datetime.combine(event_date,close_time)))\n",
    "total_hours"
   ]
  },
  {
   "cell_type": "code",
   "execution_count": null,
   "metadata": {},
   "outputs": [],
   "source": []
  },
  {
   "cell_type": "code",
   "execution_count": 28,
   "metadata": {},
   "outputs": [
    {
     "data": {
      "text/plain": [
       "[(datetime.datetime(2019, 7, 27, 13, 0),\n",
       "  datetime.datetime(2019, 7, 27, 18, 0)),\n",
       " (datetime.datetime(2019, 7, 27, 10, 0),\n",
       "  datetime.datetime(2019, 7, 27, 14, 0))]"
      ]
     },
     "execution_count": 28,
     "metadata": {},
     "output_type": "execute_result"
    }
   ],
   "source": [
    "booked_slots"
   ]
  },
  {
   "cell_type": "code",
   "execution_count": 34,
   "metadata": {},
   "outputs": [],
   "source": [
    "def count(listOfTuple): \n",
    "      \n",
    "    count_map = {} \n",
    "    for i in listOfTuple: \n",
    "        count_map[i] = count_map.get(i, 0) +1\n",
    "#     print(count_map)\n",
    "    return count_map"
   ]
  },
  {
   "cell_type": "code",
   "execution_count": 30,
   "metadata": {},
   "outputs": [
    {
     "name": "stdout",
     "output_type": "stream",
     "text": [
      "[(datetime.datetime(2019, 7, 27, 7, 0), datetime.datetime(2019, 7, 27, 7, 0)), (datetime.datetime(2019, 7, 27, 10, 0), datetime.datetime(2019, 7, 27, 14, 0)), (datetime.datetime(2019, 7, 27, 13, 0), datetime.datetime(2019, 7, 27, 18, 0)), (datetime.datetime(2019, 7, 27, 20, 0), datetime.datetime(2019, 7, 27, 20, 0))]\n"
     ]
    }
   ],
   "source": [
    "duration=timedelta(hours=1)\n",
    "slots = sorted([(total_hours[0],total_hours[0])]+ booked_slots + [(total_hours[1],total_hours[1])])\n",
    "print(slots)"
   ]
  },
  {
   "cell_type": "code",
   "execution_count": 35,
   "metadata": {},
   "outputs": [
    {
     "name": "stdout",
     "output_type": "stream",
     "text": [
      "-----Time Slots Avalibility at Zilker----\n",
      "\n",
      "07:00 - 08:00\t(4)\n",
      "08:00 - 09:00\t(4)\n",
      "09:00 - 10:00\t(4)\n",
      "18:00 - 19:00\t(4)\n",
      "19:00 - 20:00\t(4)\n",
      "10:00 - 11:00\t(3)\n",
      "11:00 - 12:00\t(3)\n",
      "12:00 - 13:00\t(3)\n",
      "13:00 - 14:00\t(2)\n",
      "14:00 - 15:00\t(3)\n",
      "15:00 - 16:00\t(3)\n",
      "16:00 - 17:00\t(3)\n",
      "17:00 - 18:00\t(3)\n"
     ]
    }
   ],
   "source": [
    "print(\"-----Time Slots Avalibility at Zilker----\\n\")\n",
    "for start, end in ((slots[i][1], slots[i+1][0]) for i in range(len(slots)-1)):\n",
    "#     assert start <= end, \"Cannot attend all appointments\"\n",
    "    while start + duration <= end:\n",
    "        if games_avail_count!=0:\n",
    "            print (\"{:%H:%M} - {:%H:%M}\".format(start, start + duration) + \"\\t\" + \"(\" + str(games_avail_count[0]) + \")\")\n",
    "            start += duration\n",
    "hours = []    \n",
    "for time,end in booked_slots:   \n",
    "    \n",
    "    while time <= end:\n",
    "        hours.append(time)\n",
    "        time += datetime.timedelta(hours=1)\n",
    "    \n",
    "hours = (sorted(hours))    \n",
    "# print(hours)\n",
    "temp = []\n",
    "i=0\n",
    "while(i < len(hours)-1):\n",
    "    if hours[i]!=hours[i+1]:\n",
    "        temp.append((hours[i],hours[i+1]))\n",
    "        i+=1\n",
    "    else:\n",
    "        temp.append((hours[i],hours[i+2]))\n",
    "        temp.append((hours[i+1],hours[i+3]))\n",
    "        i+=3\n",
    "#     print(i)\n",
    "\n",
    "temp1 = count(temp)\n",
    "for items in temp1:\n",
    "    print(\"{:%H:%M} - {:%H:%M}\".format(items[0],items[1]) + \"\\t\" + \"(\" + str(games_avail_count[0]-temp1[items]) + \")\")    \n",
    "    \n",
    "#   print (\"{:%H:%M} - {:%H:%M}\".format(i,j) + \"\\t\" + \"(\" + str(games_avail_count[1]) + \")\")"
   ]
  },
  {
   "cell_type": "code",
   "execution_count": null,
   "metadata": {},
   "outputs": [],
   "source": []
  },
  {
   "cell_type": "code",
   "execution_count": null,
   "metadata": {},
   "outputs": [],
   "source": [
    "temp1 = count(temp)\n",
    "\n",
    "for items in temp1:\n",
    "    print(\"{:%H:%M} - {:%H:%M}\".format(items[0],items[1]) + \"\\t\" + \"(\" + str(games_avail_count[0]-temp1[items]) + \")\")"
   ]
  },
  {
   "cell_type": "code",
   "execution_count": null,
   "metadata": {},
   "outputs": [],
   "source": [
    "from datetime import datetime"
   ]
  },
  {
   "cell_type": "code",
   "execution_count": null,
   "metadata": {},
   "outputs": [],
   "source": [
    "event_date = datetime.date(2019)\n",
    "start_time = datetime.time(10)\n",
    "\n",
    "datetime.datetime.combine(event_date,start_time)"
   ]
  },
  {
   "cell_type": "code",
   "execution_count": null,
   "metadata": {},
   "outputs": [],
   "source": [
    "datetime.datetime.strptime('01', '%H').time()"
   ]
  },
  {
   "cell_type": "code",
   "execution_count": null,
   "metadata": {},
   "outputs": [],
   "source": [
    "db.close()"
   ]
  },
  {
   "cell_type": "code",
   "execution_count": null,
   "metadata": {},
   "outputs": [],
   "source": [
    "open_time = str(venues[0][0])\n",
    "close_time = str(venues[0][1])\n",
    "\n",
    "open_time = datetime.datetime.strptime(open_time, '%H').time()\n",
    "close_time = datetime.datetime.strptime(close_time, '%H').time()\n",
    "open_time"
   ]
  },
  {
   "cell_type": "code",
   "execution_count": null,
   "metadata": {},
   "outputs": [],
   "source": [
    "total_hours = ((datetime.datetime.combine(event_date,open_time)), (datetime.datetime.combine(event_date,close_time)))"
   ]
  },
  {
   "cell_type": "code",
   "execution_count": null,
   "metadata": {},
   "outputs": [],
   "source": [
    "total_hours"
   ]
  },
  {
   "cell_type": "code",
   "execution_count": null,
   "metadata": {},
   "outputs": [],
   "source": []
  }
 ],
 "metadata": {
  "kernelspec": {
   "display_name": "Python 3",
   "language": "python",
   "name": "python3"
  },
  "language_info": {
   "codemirror_mode": {
    "name": "ipython",
    "version": 3
   },
   "file_extension": ".py",
   "mimetype": "text/x-python",
   "name": "python",
   "nbconvert_exporter": "python",
   "pygments_lexer": "ipython3",
   "version": "3.7.3"
  }
 },
 "nbformat": 4,
 "nbformat_minor": 2
}
