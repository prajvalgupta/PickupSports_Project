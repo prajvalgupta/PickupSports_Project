{
 "cells": [
  {
   "cell_type": "code",
   "execution_count": 1,
   "metadata": {},
   "outputs": [],
   "source": [
    "import sqlite3\n",
    "db = sqlite3.connect(\"APAD_proj.db\")"
   ]
  },
  {
   "cell_type": "code",
   "execution_count": 2,
   "metadata": {},
   "outputs": [],
   "source": [
    "def email_check(db,email):\n",
    "    cursor = db.cursor()\n",
    "    while(1):\n",
    "        findEmail = '''SELECT * FROM user where email_id = ?'''\n",
    "        cursor.execute(findEmail, (email,))\n",
    "        if cursor.fetchall():\n",
    "            print(\"Email already registered, enter again\")\n",
    "            email = str(input(\"Please provide your email-address: \"))\n",
    "        else:\n",
    "            return email\n"
   ]
  },
  {
   "cell_type": "code",
   "execution_count": 3,
   "metadata": {},
   "outputs": [],
   "source": [
    "def admin_check(db,email):\n",
    "    cursor = db.cursor()\n",
    "    findEmail = '''SELECT email_id FROM user where first_name = ?'''\n",
    "    cursor.execute(findEmail, (\"admin\",))\n",
    "    admin = cursor.fetchone()[0]\n",
    "#     print(admin)\n",
    "    while email != admin:\n",
    "        print(\"Only admin is authorized to add a venue\")\n",
    "        email = str(input(\"Enter the admin's email address: \"))\n",
    "    \n",
    "    return email\n",
    "\n"
   ]
  },
  {
   "cell_type": "code",
   "execution_count": 4,
   "metadata": {},
   "outputs": [],
   "source": [
    "def password_verify(pwd):\n",
    "    while pwd[0]!=pwd[1]:\n",
    "        print(\"Your passwords didn't match, enter again\")\n",
    "        pwd[0] = str(input(\"Enter the password: \")) # NEED to add constraints\n",
    "        pwd[1] = str(input(\"Enter the password again to recheck: \"))\n",
    "    return pwd[0], pwd[1]\n",
    "        "
   ]
  },
  {
   "cell_type": "code",
   "execution_count": 5,
   "metadata": {},
   "outputs": [],
   "source": [
    "def new_user(db, inputs):\n",
    "\n",
    "    cursor = db.cursor()\n",
    "    query = '''INSERT INTO user(email_id,first_name,last_name,contact_number, zip_code, password)\n",
    "                    VALUES(?,?,?,?,?,?)'''\n",
    "\n",
    "    cursor.execute(query, (inputs[:6]))  \n",
    "    db.commit()\n"
   ]
  },
  {
   "cell_type": "code",
   "execution_count": 6,
   "metadata": {},
   "outputs": [],
   "source": [
    "def user_input_form():\n",
    "    email = str(input(\"Please provide your email-address: \"))\n",
    "    email = email_check(db, email)\n",
    "    first_name = str(input(\"Please Enter your first name: \"))\n",
    "    last_name = str(input(\"Please Enter your last name: \"))\n",
    "    contact_number = str(input(\"Please provide a valid contact number: \"))\n",
    "    zip_code = str(input(\"Your zip code: \"))\n",
    "    password = str(input(\"Enter the password: \")) # NEED to add constraints\n",
    "    password_check = str(input(\"Enter the password again to recheck: \"))\n",
    "    pwd = [password, password_check]\n",
    "    password, password_check = password_verify(pwd)\n",
    "    inputs = [email, first_name, last_name, contact_number, zip_code, password, password_check]\n",
    "    \n",
    "    return inputs"
   ]
  },
  {
   "cell_type": "code",
   "execution_count": null,
   "metadata": {},
   "outputs": [],
   "source": [
    "# Single User input\n",
    "\n",
    "inputs = user_input_form()\n",
    "new_user(db, inputs)"
   ]
  },
  {
   "cell_type": "code",
   "execution_count": 7,
   "metadata": {},
   "outputs": [],
   "source": [
    "def new_venue(db, inputs):\n",
    "    \n",
    "    cursor = db.cursor()\n",
    "    \n",
    "    query = '''INSERT INTO venue(venue_name, address, zip_code, contact_number, description)\n",
    "                VALUES(?,?,?,?,?)'''\n",
    "\n",
    "    # cursor = db.cursor()\n",
    "    cursor.execute(query, inputs[1:]) \n",
    "    db.commit()\n"
   ]
  },
  {
   "cell_type": "code",
   "execution_count": 8,
   "metadata": {},
   "outputs": [],
   "source": [
    "def add_venue_form():\n",
    "    email = str(input(\"Please enter your email address: \"))\n",
    "    email1 = admin_check(db,email)\n",
    "    venue_name = str(input(\"Please Enter the venue name: \"))\n",
    "    address = str(input(\"Please Enter the venue address: \"))\n",
    "    zip_code = str(input(\"Venue zip code: \"))\n",
    "    contact_number = str(input(\"Please provide a contact number: \"))\n",
    "    description = str(input(\"Enter the venue description (not more than 200 characters): \")) # Need to limit the length of input\n",
    "\n",
    "    inputs_venue = [email1,venue_name,address,zip_code,contact_number,description]\n",
    "    return inputs_venue"
   ]
  },
  {
   "cell_type": "code",
   "execution_count": null,
   "metadata": {},
   "outputs": [],
   "source": [
    "inputs_venue = add_venue_form()\n",
    "new_venue(db, inputs_venue)"
   ]
  },
  {
   "cell_type": "code",
   "execution_count": null,
   "metadata": {},
   "outputs": [],
   "source": []
  },
  {
   "cell_type": "code",
   "execution_count": 9,
   "metadata": {},
   "outputs": [],
   "source": [
    "def email_verify(db, email):\n",
    "    cursor = db.cursor()\n",
    "    \n",
    "    findEmail = '''SELECT email_id FROM user where email_id = ?'''\n",
    "    cursor.execute(findEmail, (email,))\n",
    "    \n",
    "    if cursor.fetchall():\n",
    "        return email\n",
    "    else:\n",
    "        print(\"You can't create an event yet. Create an account first\")\n",
    "        inputs = user_input_form()\n",
    "        new_user(db, inputs)\n",
    "        return inputs[0]"
   ]
  },
  {
   "cell_type": "code",
   "execution_count": 23,
   "metadata": {},
   "outputs": [],
   "source": [
    "def fetch_event_cat(cursor):\n",
    "    event_cat_query = '''SELECT event_category_name FROM event_category'''\n",
    "    cursor.execute(event_cat_query)\n",
    "    event_cat = cursor.fetchall()\n",
    "    print(\"Please select a category from the following: \") \n",
    "    for i in range(len(event_cat)):\n",
    "        print(str(i) +\":\" + event_cat[i])\n",
    "    \n",
    "    "
   ]
  },
  {
   "cell_type": "code",
   "execution_count": 22,
   "metadata": {},
   "outputs": [],
   "source": [
    "def fetch_venue(cursor):\n",
    "    venue_query = '''SELECT venue_name FROM venue'''\n",
    "    cursor.execute(venue_query)\n",
    "    venues = cursor.fetchall()\n",
    "    print(\"Please select a venue from the following: \") \n",
    "    for i in range(len(venues)):\n",
    "        print(str(i) +\":\" + venues[i])\n",
    "    return venues"
   ]
  },
  {
   "cell_type": "code",
   "execution_count": 19,
   "metadata": {},
   "outputs": [],
   "source": [
    "def fetch_sport(cursor):\n",
    "    sport_query = '''SELECT sport_name FROM sports_cat'''\n",
    "    cursor.execute(sport_query)\n",
    "    sports = cursor.fetchall()\n",
    "    print(\"Please select a sport from the following: \") \n",
    "    for i in range(len(sports)):\n",
    "        print(str(i) +\":\" + sports[i])\n",
    "    return sports"
   ]
  },
  {
   "cell_type": "code",
   "execution_count": 26,
   "metadata": {},
   "outputs": [],
   "source": [
    "def new_event(db,inputs):\n",
    "    \n",
    "    cursor = db.cursor()\n",
    "\n",
    "    if inputs[9] == \"create\":\n",
    "\n",
    "        host_insert_flag = '''INSERT INTO events(event_cat_id,venue_id,event_name, date, start_time,end_time,\n",
    "                                              user_id, host_flag, member_flag, sports_cat_id, event_desc, capacity_avail)\n",
    "                       VALUES(?,?,?,?,?,?,?,?,?,?,?,?)'''\n",
    "\n",
    "\n",
    "        cursor.execute(host_insert_flag, (inputs[7],inputs[8],inputs[1],inputs[2],inputs[3],inputs[4],inputs[0],1,0,inputs[10],inputs[5], inputs[6]))  \n",
    "\n",
    "        db.commit()\n",
    "\n",
    "    elif inputs[9] == \"join\":\n",
    "\n",
    "        find_event = '''SELECT * FROM events where date = ?\n",
    "                            and start_time = ? and end_time = ?'''\n",
    "        cursor.execute(find_event, (inputs[2], inputs[3], inputs[4],))\n",
    "        p = cursor.fetchall()\n",
    "    else:\n",
    "        print(\"enter a valid option\")"
   ]
  },
  {
   "cell_type": "code",
   "execution_count": 29,
   "metadata": {},
   "outputs": [],
   "source": [
    "def event_create_inputs(db):\n",
    "    \n",
    "    count = 0\n",
    "    cursor = db.cursor()\n",
    "    db.row_factory = lambda cursor, row: row[0]\n",
    "    \n",
    "    #Input the email of the user\n",
    "    email = str(input(\"Please provide your email-address: \"))\n",
    "\n",
    "    #Check if it's an existing user\n",
    "    email = email_verify(db,email)\n",
    "    \n",
    "    #Get the user_id from the database\n",
    "    user_id_query = '''SELECT user_id FROM user where email_id = ?'''\n",
    "    cursor.execute(user_id_query, (email,))\n",
    "    user_id = cursor.fetchone()\n",
    "    \n",
    "    event_name = str(input(\"Please Enter the event name: \"))\n",
    "    \n",
    "    #Fetch the list of sports \n",
    "    sports = fetch_sport(cursor)\n",
    "    \n",
    "    #Input for sport. Only accept if it exists!\n",
    "    while(1):\n",
    "        sport_name = str(input(\"Please Enter the sport name: \"))\n",
    "        for i in sports:\n",
    "            if (sport_name == i):\n",
    "                count=1\n",
    "                break\n",
    "        if count==1:\n",
    "            break\n",
    "        else:\n",
    "            print(\"Please enter the correct sport from choices above!\")\n",
    "\n",
    "    #Get the sport id from the database\n",
    "    sports_cat_id_query = '''SELECT sports_cat_id FROM sports_cat where sport_name = ?'''\n",
    "    cursor.execute(sports_cat_id_query, (sport_name,))\n",
    "    sports_cat_id = cursor.fetchone()\n",
    "    \n",
    "    event_date = str(input(\"Please Enter the event date: \"))\n",
    "    start_time = str(input(\"Please Enter the start time in hrs: \"))\n",
    "    end_time   = str(input(\"Please Enter the end time in hrs: \"))\n",
    "    event_desc = str(input(\"Please Enter the event description: \"))\n",
    "    capacity   = str(input(\"Please Enter the capacity avail: \"))\n",
    "    \n",
    "    #Fetch all event categories\n",
    "    fetch_event_cat(cursor)\n",
    "    \n",
    "    #Input for event category. Only accept if it exists!\n",
    "    while(1):\n",
    "        event_category_name = str(input(\"Please Enter the event category name : \"))\n",
    "        if (event_category_name == \"watch\" or event_category_name == \"play\" or event_category_name == \"workshop\" ):\n",
    "            break\n",
    "        else:\n",
    "            print(\"Please enter the right category from choices above!\")\n",
    "    \n",
    "    #Get the Event cat id from the database\n",
    "    event_cat_id_query = '''SELECT event_cat_id FROM event_category where event_category_name = ?'''\n",
    "    cursor.execute(event_cat_id_query, (event_category_name,))\n",
    "    event_cat_id = cursor.fetchone()\n",
    "    \n",
    "    #Fetch all the venues\n",
    "    venues = fetch_venue(cursor)\n",
    "    \n",
    "    #Input for venue. Only accept if it exists!\n",
    "    count=0\n",
    "    while(1):\n",
    "        venue_name = str(input(\"Please Enter the venue name: \"))\n",
    "        for i in venues:\n",
    "            if (venue_name == i):\n",
    "                count=1\n",
    "                break\n",
    "        if count==1:\n",
    "            break\n",
    "        else:\n",
    "            print(\"Please enter the correct venue from choices above!\")\n",
    "    \n",
    "    #Get the venue id from the database\n",
    "    venue_id_query = '''SELECT venue_id FROM venue where venue_name = ?'''\n",
    "    cursor.execute(venue_id_query, (venue_name,))\n",
    "    venue_id = cursor.fetchone()\n",
    "    \n",
    "    create_or_join = str(input(\"Do you want to create/join the game: \")).lower()\n",
    "    \n",
    "    inputs = [user_id,event_name,event_date,start_time,end_time,event_desc,capacity,event_cat_id,venue_id,create_or_join,sports_cat_id]\n",
    "    \n",
    "    return inputs"
   ]
  },
  {
   "cell_type": "code",
   "execution_count": 30,
   "metadata": {},
   "outputs": [
    {
     "name": "stdout",
     "output_type": "stream",
     "text": [
      "Please provide your email-address: prajvalgupta@gmail.com\n",
      "Please Enter the event name: Cricket at Zilker\n",
      "Please select a sport from the following: \n",
      "0:cricket\n",
      "1:tennis\n",
      "Please Enter the sport name: cricket\n",
      "Please Enter the event date: 08-05-2019\n",
      "Please Enter the start time in hrs: 9:00\n",
      "Please Enter the end time in hrs: 17:00\n",
      "Please Enter the event description: Fee: $30 per person\n",
      "Please Enter the capacity avail: 12\n",
      "Please select a category from the following: \n",
      "0:play\n",
      "1:watch\n",
      "2:workshop\n",
      "Please Enter the event category name : play\n",
      "Please select a venue from the following: \n",
      "0:Zilker Park\n",
      "1:Zilker Park\n",
      "2:Duval Villa\n",
      "3:UT Austin McCombs\n",
      "4:a\n",
      "Please Enter the venue name: Zilker Park\n",
      "Do you want to create/join the game: create\n"
     ]
    }
   ],
   "source": [
    "inputs2 = event_create_inputs(db)\n",
    "if inputs2:\n",
    "    new_event(db,inputs2)"
   ]
  },
  {
   "cell_type": "code",
   "execution_count": null,
   "metadata": {},
   "outputs": [],
   "source": []
  },
  {
   "cell_type": "code",
   "execution_count": 33,
   "metadata": {},
   "outputs": [],
   "source": [
    "from datetime import datetime, timedelta"
   ]
  },
  {
   "cell_type": "code",
   "execution_count": 60,
   "metadata": {},
   "outputs": [
    {
     "name": "stdout",
     "output_type": "stream",
     "text": [
      "[(datetime.datetime(2019, 7, 26, 9, 0), datetime.datetime(2019, 7, 26, 9, 0)), (datetime.datetime(2019, 7, 26, 10, 0), datetime.datetime(2019, 7, 26, 12, 0)), (datetime.datetime(2019, 7, 26, 14, 30), datetime.datetime(2019, 7, 26, 17, 0)), (datetime.datetime(2019, 7, 26, 20, 0), datetime.datetime(2019, 7, 26, 20, 0))]\n",
      "09:00:00\n",
      "09:00 - 10:00\n",
      "12:00 - 13:00\n",
      "13:00 - 14:00\n",
      "17:00 - 18:00\n",
      "18:00 - 19:00\n",
      "19:00 - 20:00\n"
     ]
    }
   ],
   "source": [
    "booked_slots = [(datetime(2019,7,26,10), datetime(2019,7,26,12)),\n",
    "                (datetime(2019,7,26,14,30),datetime(2019,7,26,17))]\n",
    "\n",
    "total_hours = (datetime(2019, 7, 26, 9), datetime(2019, 7, 26, 20))\n",
    "duration=timedelta(hours=1)\n",
    "slots = sorted([(total_hours[0],total_hours[0])] + booked_slots + [(total_hours[1],total_hours[1])])\n",
    "print(slots)\n",
    "for start, end in ((slots[i][1], slots[i+1][0]) for i in range(len(slots)-1)):\n",
    "    assert start <= end, \"Cannot attend all appointments\"\n",
    "    while start + duration <= end:\n",
    "        print (\"{:%H:%M} - {:%H:%M}\".format(start, start + duration))\n",
    "        start += duration"
   ]
  },
  {
   "cell_type": "code",
   "execution_count": null,
   "metadata": {},
   "outputs": [],
   "source": []
  }
 ],
 "metadata": {
  "kernelspec": {
   "display_name": "Python 3",
   "language": "python",
   "name": "python3"
  },
  "language_info": {
   "codemirror_mode": {
    "name": "ipython",
    "version": 3
   },
   "file_extension": ".py",
   "mimetype": "text/x-python",
   "name": "python",
   "nbconvert_exporter": "python",
   "pygments_lexer": "ipython3",
   "version": "3.7.3"
  }
 },
 "nbformat": 4,
 "nbformat_minor": 2
}
