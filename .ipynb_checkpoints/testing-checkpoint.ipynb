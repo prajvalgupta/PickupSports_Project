{
 "cells": [
  {
   "cell_type": "code",
   "execution_count": null,
   "metadata": {},
   "outputs": [],
   "source": [
    "import sqlite3\n",
    "db = sqlite3.connect(\"APAD_proj.db\")"
   ]
  },
  {
   "cell_type": "code",
   "execution_count": null,
   "metadata": {},
   "outputs": [],
   "source": [
    "def new_user(db):\n",
    "\n",
    "\n",
    "    cursor = db.cursor()\n",
    "    \n",
    "\n",
    "    while(1):\n",
    "        email = str(input(\"Please provide your email-address: \"))\n",
    "        findEmail = '''SELECT * FROM user where email_id = ?'''\n",
    "\n",
    "        cursor.execute(findEmail, (email,))\n",
    "\n",
    "        if cursor.fetchall():\n",
    "            print(\"Email already registered, enter again\")\n",
    "\n",
    "        else:\n",
    "\n",
    "            first_name = str(input(\"Please Enter your first name: \"))\n",
    "            last_name = str(input(\"Please Enter your last name: \"))\n",
    "            contact_number = str(input(\"Please provide a valid contact number: \"))\n",
    "            zip_code = str(input(\"Your zip code: \"))\n",
    "            password = str(input(\"Enter the password: \")) # NEED to add constraints\n",
    "            password_check = str(input(\"Enter the password again to recheck: \"))\n",
    "\n",
    "            while password!=password_check:\n",
    "                password = str(input(\"Your passwords did not match, try again: \"))\n",
    "                password_check = str(input(\"Enter the password again to recheck: \"))\n",
    "\n",
    "            query = '''INSERT INTO user(email_id,first_name,last_name,cotact_number, zip_code, password)\n",
    "                            VALUES(?,?,?,?,?,?)'''\n",
    "                \n",
    "            cursor.execute(query, (email, first_name, last_name, contact_number, zip_code, password))  \n",
    "            db.commit()\n",
    "            break\n"
   ]
  },
  {
   "cell_type": "code",
   "execution_count": null,
   "metadata": {},
   "outputs": [],
   "source": [
    "new_user(db)"
   ]
  },
  {
   "cell_type": "code",
   "execution_count": null,
   "metadata": {},
   "outputs": [],
   "source": [
    "def new_venue(db, admin):\n",
    "    \n",
    "    cursor = db.cursor()\n",
    "\n",
    "    email = str(input(\"Please enter your email address: \"))\n",
    "    \n",
    "    while email != admin:\n",
    "        print(\"You are not authorized to add a venue\")\n",
    "        email = str(input(\"Enter your email address again: \"))\n",
    "    \n",
    "    venue_name = str(input(\"Please Enter the venue name: \"))\n",
    "    address = str(input(\"Please Enter the venue address: \"))\n",
    "    zip_code = str(input(\"Venue zip code: \"))\n",
    "    contact_number = str(input(\"Please provide a contact number: \"))\n",
    "    description = str(input(\"Enter the venue description (not more than 200 characters): \")) # Need to limit the length of input\n",
    "\n",
    "    query = '''INSERT INTO venue(venue_name, address, zip_code, contact_number, description)\n",
    "                VALUES(?,?,?,?,?)'''\n",
    "\n",
    "    # cursor = db.cursor()\n",
    "    cursor.execute(query, (venue_name, address, zip_code, contact_number, description)) \n",
    "    db.commit()\n"
   ]
  },
  {
   "cell_type": "code",
   "execution_count": null,
   "metadata": {},
   "outputs": [],
   "source": [
    "admin_id = \"prajvalgupta@gmail.com\"\n",
    "\n",
    "new_venue(db, admin_id)\n"
   ]
  },
  {
   "cell_type": "code",
   "execution_count": 29,
   "metadata": {},
   "outputs": [],
   "source": [
    "import sqlite3\n",
    "db = sqlite3.connect(\"APAD_proj.db\")"
   ]
  },
  {
   "cell_type": "code",
   "execution_count": 30,
   "metadata": {},
   "outputs": [],
   "source": [
    "def new_event(db):\n",
    "    cursor = db.cursor()\n",
    "    \n",
    "    email = str(input(\"Please provide your email-address: \"))\n",
    "    findEmail = '''SELECT email_id FROM user where email_id = ?'''\n",
    "    cursor.execute(findEmail, (email,))\n",
    "    create_or_join = str(input(\"Do you want to create/join the game: \")).lower()\n",
    "    \n",
    "    if cursor.fetchall():\n",
    "        if create_or_join == \"create\":\n",
    "            event_name = str(input(\"Please Enter the event name: \"))\n",
    "            event_date = str(input(\"Please Enter the event date: \"))\n",
    "            start_time = str(input(\"Please Enter the start time in hrs: \"))\n",
    "            end_time   = str(input(\"Please Enter the end time in hrs: \"))\n",
    "            event_desc = str(input(\"Please Enter the event description: \"))\n",
    "            capacity   = str(input(\"Please Enter the capacity avail: \"))\n",
    "            event_category = str(input(\"Please Enter the event category as watching/playing/mentoring: \"))\n",
    "            \n",
    "            host_insert_flag = '''INSERT INTO events(event_cat_id,venue_id,event_name, date, start_time,end_time,\n",
    "                                                    user_id, host_flag, member_flag, sports_cat_id, event_desc, capacity_avail)\n",
    "                            VALUES(?,?,?,?,?,?,?,?,?,?,?,?)'''\n",
    "                \n",
    "            #cursor.execute(host_insert_flag, (...,...,event_name,event_date,start_time,end_time,...,1,0, ...., event_desc, capacity))  \n",
    "            #need to write a sub query for missing columns and fill up event_cat_id table, \n",
    "            #need to update main fact_table. with email id then join to all other\n",
    "            #db.commit()\n",
    "            \n",
    "            # need to do host_flag as 1\n",
    "        elif create_or_join == \"join\":\n",
    "            event_date = str(input(\"Please Enter the event date: \"))\n",
    "            start_time = str(input(\"Please Enter the start time in hrs: \"))\n",
    "            end_time   = str(input(\"Please Enter the end time in hrs: \"))\n",
    "            find_event = '''SELECT * FROM events where date = ?\n",
    "                                and start_time = ? and end_time = ?'''\n",
    "            cursor.execute(find_event, (event_date, start_time, end_time,))\n",
    "            p = cursor.fetchall()\n",
    "        else:\n",
    "            print(\"enter a valid option\")\n",
    "            \n",
    "    else:\n",
    "        print(\"you can't create an event yet. Create an account first\")\n",
    "    "
   ]
  },
  {
   "cell_type": "code",
   "execution_count": 31,
   "metadata": {},
   "outputs": [
    {
     "name": "stdout",
     "output_type": "stream",
     "text": [
      "Please provide your email-address: ritika.munjal29@gmail.com\n",
      "Do you want to create/join the game: join\n",
      "Please Enter the event date: 12\n",
      "Please Enter the start time in hrs: 1\n",
      "Please Enter the end time in hrs: 12\n",
      "[]\n"
     ]
    }
   ],
   "source": [
    "new_event(db)"
   ]
  },
  {
   "cell_type": "code",
   "execution_count": null,
   "metadata": {},
   "outputs": [],
   "source": []
  }
 ],
 "metadata": {
  "kernelspec": {
   "display_name": "Python 3",
   "language": "python",
   "name": "python3"
  },
  "language_info": {
   "codemirror_mode": {
    "name": "ipython",
    "version": 3
   },
   "file_extension": ".py",
   "mimetype": "text/x-python",
   "name": "python",
   "nbconvert_exporter": "python",
   "pygments_lexer": "ipython3",
   "version": "3.7.3"
  }
 },
 "nbformat": 4,
 "nbformat_minor": 2
}
