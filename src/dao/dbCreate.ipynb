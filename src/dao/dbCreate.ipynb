{
 "cells": [
  {
   "cell_type": "code",
   "execution_count": 2,
   "metadata": {},
   "outputs": [],
   "source": [
    "# Import sqlite3 module\n",
    "import sqlite3"
   ]
  },
  {
   "cell_type": "code",
   "execution_count": 3,
   "metadata": {},
   "outputs": [],
   "source": [
    "# Connect to the chinook database\n",
    "#db=sqlite3.connect(\"/sqlite/db/chinook.db\")\n",
    "db = sqlite3.connect(\"APAD_proj.db\")"
   ]
  },
  {
   "cell_type": "code",
   "execution_count": 6,
   "metadata": {},
   "outputs": [
    {
     "data": {
      "text/plain": [
       "<sqlite3.Cursor at 0x19a6d4e6260>"
      ]
     },
     "execution_count": 6,
     "metadata": {},
     "output_type": "execute_result"
    }
   ],
   "source": [
    "conn = db.cursor()\n",
    "conn.execute('''CREATE TABLE user (\n",
    "                    user_id INTEGER PRIMARY KEY AUTOINCREMENT,\n",
    "                    email_id VARCHAR(50) NOT NULL UNIQUE,\n",
    "                    first_name VARCHAR(50),\n",
    "                    last_name VARCHAR(50),\n",
    "                    contact_number VARCHAR(15) NOT NULL UNIQUE,\n",
    "                    zip_code INTEGER(5) NOT NULL,\n",
    "                    password VARCHAR(50) NOT NULL\n",
    "                    ) ''')"
   ]
  },
  {
   "cell_type": "code",
   "execution_count": 7,
   "metadata": {},
   "outputs": [
    {
     "data": {
      "text/plain": [
       "<sqlite3.Cursor at 0x19a6d4e6260>"
      ]
     },
     "execution_count": 7,
     "metadata": {},
     "output_type": "execute_result"
    }
   ],
   "source": [
    "conn.execute('''CREATE TABLE venue (\n",
    "                    venue_id INTEGER PRIMARY KEY AUTOINCREMENT,\n",
    "                    venue_name VARCHAR(50) NOT NULL,\n",
    "                    address VARCHAR(100) NOT NULL,\n",
    "                    zip_code INTEGER(5) NOT NULL,\n",
    "                    contact_number VARCHAR(15),\n",
    "                    description VARCHAR(200) \n",
    "                    ) ''')"
   ]
  },
  {
   "cell_type": "code",
   "execution_count": 8,
   "metadata": {},
   "outputs": [
    {
     "data": {
      "text/plain": [
       "<sqlite3.Cursor at 0x19a6d4e6260>"
      ]
     },
     "execution_count": 8,
     "metadata": {},
     "output_type": "execute_result"
    }
   ],
   "source": [
    "conn.execute('''CREATE TABLE event_category (\n",
    "                    event_cat_id INTEGER PRIMARY KEY,\n",
    "                    event_category_name VARCHAR(50) not null \n",
    "                    ) ''')"
   ]
  },
  {
   "cell_type": "code",
   "execution_count": 9,
   "metadata": {},
   "outputs": [],
   "source": [
    "db.commit()"
   ]
  }
 ],
 "metadata": {
  "kernelspec": {
   "display_name": "Python 3",
   "language": "python",
   "name": "python3"
  },
  "language_info": {
   "codemirror_mode": {
    "name": "ipython",
    "version": 3
   },
   "file_extension": ".py",
   "mimetype": "text/x-python",
   "name": "python",
   "nbconvert_exporter": "python",
   "pygments_lexer": "ipython3",
   "version": "3.7.3"
  }
 },
 "nbformat": 4,
 "nbformat_minor": 2
}
