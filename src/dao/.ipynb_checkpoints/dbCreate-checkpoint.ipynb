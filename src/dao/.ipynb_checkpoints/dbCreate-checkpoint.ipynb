{
 "cells": [
  {
   "cell_type": "code",
   "execution_count": 1,
   "metadata": {},
   "outputs": [],
   "source": [
    "# Import sqlite3 module\n",
    "import sqlite3"
   ]
  },
  {
   "cell_type": "code",
   "execution_count": null,
   "metadata": {},
   "outputs": [],
   "source": [
    "# Connect to the chinook database\n",
    "#db=sqlite3.connect(\"/sqlite/db/chinook.db\")"
   ]
  },
  {
   "cell_type": "code",
   "execution_count": null,
   "metadata": {},
   "outputs": [],
   "source": [
    "cursor = db.cursor()\n",
    "cursor.execute('''CREATE TABLE user (\n",
    "                    user_id INTEGER AUTOINCREMENT PRIMARY KEY,\n",
    "                    email_id TEXT NOT NULL UNIQUE,\n",
    "                    first_name TEXT,\n",
    "                    last_name TEXT,\n",
    "                    contact_number INTEGER NOT NULL UNIQUE\n",
    "                    zip_code INTEGER NOT NULL\n",
    "                    password TEXT NOT NULL\n",
    "                    ) ''')"
   ]
  },
  {
   "cell_type": "code",
   "execution_count": null,
   "metadata": {},
   "outputs": [],
   "source": [
    "cursor.execute('''CREATE TABLE venue (\n",
    "                    venue_id INTEGER AUTOINCREMENT PRIMARY KEY,\n",
    "                    venue_name TEXT NOT NULL,\n",
    "                    address TEXT NOT NULL,\n",
    "                    zip_code INTEGER NOT NULL,\n",
    "                    contact_number INTEGER,\n",
    "                    description TEXT \n",
    "                    ) ''')"
   ]
  },
  {
   "cell_type": "code",
   "execution_count": null,
   "metadata": {},
   "outputs": [],
   "source": [
    "cursor.execute('''CREATE TABLE event_category (\n",
    "                    event_cat_id INTEGER PRIMARY KEY,\n",
    "                    event_category TEXT not null \n",
    "                    ) ''')"
   ]
  },
  {
   "cell_type": "code",
   "execution_count": null,
   "metadata": {},
   "outputs": [],
   "source": [
    "db.commit()"
   ]
  }
 ],
 "metadata": {
  "kernelspec": {
   "display_name": "Python 3",
   "language": "python",
   "name": "python3"
  },
  "language_info": {
   "codemirror_mode": {
    "name": "ipython",
    "version": 3
   },
   "file_extension": ".py",
   "mimetype": "text/x-python",
   "name": "python",
   "nbconvert_exporter": "python",
   "pygments_lexer": "ipython3",
   "version": "3.7.3"
  }
 },
 "nbformat": 4,
 "nbformat_minor": 2
}
