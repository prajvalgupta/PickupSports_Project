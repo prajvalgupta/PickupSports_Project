{
 "cells": [
  {
   "cell_type": "code",
   "execution_count": 1,
   "metadata": {},
   "outputs": [],
   "source": [
    "import sqlite3"
   ]
  },
  {
   "cell_type": "code",
   "execution_count": 2,
   "metadata": {},
   "outputs": [],
   "source": [
    "db = sqlite3.connect(\"APAD_proj.db\")"
   ]
  },
  {
   "cell_type": "code",
   "execution_count": 3,
   "metadata": {},
   "outputs": [],
   "source": [
    "conn = db.cursor()"
   ]
  },
  {
   "cell_type": "code",
   "execution_count": 4,
   "metadata": {},
   "outputs": [
    {
     "data": {
      "text/plain": [
       "<sqlite3.Cursor at 0x290e4d59e30>"
      ]
     },
     "execution_count": 4,
     "metadata": {},
     "output_type": "execute_result"
    }
   ],
   "source": [
    "conn.execute('''CREATE TABLE sports_cat(\n",
    "                sports_cat_id INTEGER PRIMARY KEY AUTOINCREMENT,\n",
    "                sport_name VARCHAR(50) NOT NULL,\n",
    "                player_count INTEGER,\n",
    "                euip_req_flag INTEGER,\n",
    "                sport_desc VARCHAR(200)\n",
    "                )''')"
   ]
  },
  {
   "cell_type": "code",
   "execution_count": 5,
   "metadata": {},
   "outputs": [
    {
     "data": {
      "text/plain": [
       "<sqlite3.Cursor at 0x290e4d59e30>"
      ]
     },
     "execution_count": 5,
     "metadata": {},
     "output_type": "execute_result"
    }
   ],
   "source": [
    "conn.execute('''CREATE TABLE feedback(ticket_id INTEGER UNIQUE,\n",
    "                subject VARCHAR(50),\n",
    "                description VARCHAR(100),\n",
    "                user_id INTEGER,\n",
    "                email_id VARCHAR(50),\n",
    "                FOREIGN KEY(user_id) REFERENCES user(user_id)\n",
    "                )''')"
   ]
  },
  {
   "cell_type": "code",
   "execution_count": 6,
   "metadata": {},
   "outputs": [
    {
     "data": {
      "text/plain": [
       "<sqlite3.Cursor at 0x290e4d59e30>"
      ]
     },
     "execution_count": 6,
     "metadata": {},
     "output_type": "execute_result"
    }
   ],
   "source": [
    "conn.execute('''CREATE TABLE events(event_id INTEGER PRIMARY KEY AUTOINCREMENT, \n",
    "                event_cat_id INTEGER NOT NULL, \n",
    "                venue_id INTEGER NOT NULL, \n",
    "                event_name VARCHAR(100) NOT NULL, \n",
    "                date DATE, \n",
    "                start_time TIME, \n",
    "                end_time TIME, \n",
    "                user_id INTEGER NOT NULL, \n",
    "                host_flag INTEGER,\n",
    "                member_flag INTEGER,\n",
    "                sports_cat_id INTEGER,\n",
    "                event_desc VARCHAR(200),\n",
    "                capacity_avail INTEGER,\n",
    "                FOREIGN KEY(user_id) REFERENCES user(user_id),\n",
    "                FOREIGN KEY(event_cat_id) REFERENCES event_category(event_cat_id),\n",
    "                FOREIGN KEY(venue_id) REFERENCES venue(venue_id)\n",
    "                FOREIGN KEY(sports_cat_id) REFERENCES sports_cat(sports_cat_id)\n",
    "                )''')"
   ]
  },
  {
   "cell_type": "code",
   "execution_count": 7,
   "metadata": {},
   "outputs": [],
   "source": [
    "db.commit()"
   ]
  }
 ],
 "metadata": {
  "kernelspec": {
   "display_name": "Python 3",
   "language": "python",
   "name": "python3"
  },
  "language_info": {
   "codemirror_mode": {
    "name": "ipython",
    "version": 3
   },
   "file_extension": ".py",
   "mimetype": "text/x-python",
   "name": "python",
   "nbconvert_exporter": "python",
   "pygments_lexer": "ipython3",
   "version": "3.7.3"
  }
 },
 "nbformat": 4,
 "nbformat_minor": 2
}
