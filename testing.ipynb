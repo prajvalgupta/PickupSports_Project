{
 "cells": [
  {
   "cell_type": "code",
   "execution_count": null,
   "metadata": {},
   "outputs": [],
   "source": [
    "import sqlite3\n",
    "db = sqlite3.connect(\"APAD_proj.db\")"
   ]
  },
  {
   "cell_type": "code",
   "execution_count": null,
   "metadata": {},
   "outputs": [],
   "source": [
    "def new_user(db):\n",
    "\n",
    "\n",
    "    cursor = db.cursor()\n",
    "    \n",
    "\n",
    "    while(1):\n",
    "        email = str(input(\"Please provide your email-address: \"))\n",
    "        findEmail = '''SELECT * FROM user where email_id = ?'''\n",
    "\n",
    "        cursor.execute(findEmail, (email,))\n",
    "\n",
    "        if cursor.fetchall():\n",
    "            print(\"Email already registered, enter again\")\n",
    "\n",
    "        else:\n",
    "\n",
    "            first_name = str(input(\"Please Enter your first name: \"))\n",
    "            last_name = str(input(\"Please Enter your last name: \"))\n",
    "            contact_number = str(input(\"Please provide a valid contact number: \"))\n",
    "            zip_code = str(input(\"Your zip code: \"))\n",
    "            password = str(input(\"Enter the password: \")) # NEED to add constraints\n",
    "            password_check = str(input(\"Enter the password again to recheck: \"))\n",
    "\n",
    "            while password!=password_check:\n",
    "                password = str(input(\"Your passwords did not match, try again: \"))\n",
    "                password_check = str(input(\"Enter the password again to recheck: \"))\n",
    "\n",
    "            query = '''INSERT INTO user(email_id,first_name,last_name,cotact_number, zip_code, password)\n",
    "                            VALUES(?,?,?,?,?,?)'''\n",
    "                \n",
    "            cursor.execute(query, (email, first_name, last_name, contact_number, zip_code, password))  \n",
    "            db.commit()\n",
    "            break\n"
   ]
  },
  {
   "cell_type": "code",
   "execution_count": null,
   "metadata": {},
   "outputs": [],
   "source": [
    "new_user(db)"
   ]
  },
  {
   "cell_type": "code",
   "execution_count": null,
   "metadata": {},
   "outputs": [],
   "source": [
    "def new_venue(db, admin):\n",
    "    \n",
    "    cursor = db.cursor()\n",
    "\n",
    "    email = str(input(\"Please enter your email address: \"))\n",
    "    \n",
    "    while email != admin:\n",
    "        print(\"You are not authorized to add a venue\")\n",
    "        email = str(input(\"Enter your email address again: \"))\n",
    "    \n",
    "    venue_name = str(input(\"Please Enter the venue name: \"))\n",
    "    address = str(input(\"Please Enter the venue address: \"))\n",
    "    zip_code = str(input(\"Venue zip code: \"))\n",
    "    contact_number = str(input(\"Please provide a contact number: \"))\n",
    "    description = str(input(\"Enter the venue description (not more than 200 characters): \")) # Need to limit the length of input\n",
    "\n",
    "    query = '''INSERT INTO venue(venue_name, address, zip_code, contact_number, description)\n",
    "                VALUES(?,?,?,?,?)'''\n",
    "\n",
    "    # cursor = db.cursor()\n",
    "    cursor.execute(query, (venue_name, address, zip_code, contact_number, description)) \n",
    "    db.commit()\n"
   ]
  },
  {
   "cell_type": "code",
   "execution_count": null,
   "metadata": {},
   "outputs": [],
   "source": [
    "admin_id = \"prajvalgupta@gmail.com\"\n",
    "\n",
    "new_venue(db, admin_id)\n"
   ]
  },
  {
   "cell_type": "code",
   "execution_count": null,
   "metadata": {},
   "outputs": [],
   "source": [
    "cursor = db.cursor()\n",
    "cursor.execute('''INSERT INTO event_category VALUES(1,\"play\")''')\n",
    "cursor.execute('''INSERT INTO event_category VALUES(2,\"watch\")''')\n",
    "cursor.execute('''INSERT INTO event_category VALUES(3,\"workshop\")''')\n",
    "db.commit()"
   ]
  },
  {
   "cell_type": "code",
   "execution_count": null,
   "metadata": {},
   "outputs": [],
   "source": [
    "import sqlite3\n",
    "db = sqlite3.connect(\"APAD_proj.db\")"
   ]
  },
  {
   "cell_type": "code",
   "execution_count": null,
   "metadata": {},
   "outputs": [],
   "source": [
    "def new_event(db,email,event_name,event_date,start_time,event_desc,capacity,event_category_name,venue_name,create_or_join):\n",
    "    \n",
    "    cursor = db.cursor()\n",
    "    \n",
    "    findEmail = '''SELECT email_id FROM user where email_id = ?'''\n",
    "    cursor.execute(findEmail, (email,))\n",
    "    \n",
    "    \n",
    "    if cursor.fetchall():\n",
    "        if create_or_join == \"create\":\n",
    "           \n",
    "            #need to add sprts_category here\n",
    "            \n",
    "            event_cat_id_query = '''SELECT event_cat_id FROM event_category where event_category_name = ?'''\n",
    "            cursor.execute(event_cat_id_query, (event_category_name,))\n",
    "            event_cat_id = cursor.fetchall()\n",
    "            print(int(event_cat_id) # need to print just the value\n",
    "            \n",
    "            venue_id_query = '''SELECT venue_id FROM venue where lower(venue_name) = ?'''\n",
    "            cursor.execute(venue_id_query, (venue_name,))\n",
    "            venue_id = cursor.fetchall()\n",
    "            print(venue_id) # need to print just the value\n",
    "            \n",
    "            user_id_query = '''SELECT user_id FROM user where email_id = ?'''\n",
    "            cursor.execute(user_id_query, (email,))\n",
    "            user_id = cursor.fetchall()\n",
    "            print(user_id) # need to print just the value not the array\n",
    "            \n",
    "            #sports category id (need to pre-fill sports category too?)\n",
    "            \n",
    "            #host_insert_flag = '''INSERT INTO events(event_cat_id,venue_id,event_name, date, start_time,end_time,\n",
    "            #                                      user_id, host_flag, member_flag, sports_cat_id, event_desc, capacity_avail)\n",
    "            #               VALUES(?,?,?,?,?,?,?,?,?,?,?,?)'''\n",
    "            \n",
    "                \n",
    "            #cursor.execute(host_insert_flag, (...,...,event_name,event_date,start_time,end_time,...,1,0, ....,event_desc, capacity))  \n",
    "            #need to write a sub query for missing columns and fill up event_cat_id table, \n",
    "            #need to update main fact_table. with email id then join to all other\n",
    "            #db.commit()\n",
    "            \n",
    "            # need to do host_flag as 1\n",
    "        elif create_or_join == \"join\":\n",
    "        \n",
    "            find_event = '''SELECT * FROM events where date = ?\n",
    "                                and start_time = ? and end_time = ?'''\n",
    "            cursor.execute(find_event, (event_date, start_time, end_time,))\n",
    "            p = cursor.fetchall()\n",
    "        else:\n",
    "            print(\"enter a valid option\")\n",
    "            \n",
    "    else:\n",
    "        print(\"You can't create an event yet. Create an account first\")\n",
    "    "
   ]
  },
  {
   "cell_type": "code",
   "execution_count": 3,
   "metadata": {},
   "outputs": [
    {
     "name": "stdout",
     "output_type": "stream",
     "text": [
      "Please provide your email-address: ritika.munjal29@gmail.com\n",
      "Please Enter the event name: hjbd\n",
      "Please Enter the event date: djs\n",
      "Please Enter the start time in hrs: dbcsj\n",
      "Please Enter the end time in hrs: ns\n",
      "Please Enter the event description: sn\n",
      "Please Enter the capacity avail: 12\n",
      "Please Enter the event category as watch/play/workshop: play\n",
      "Please Enter the venue name: zilker park\n",
      "Do you want to create/join the game: create\n",
      "[(1,)]\n",
      "[(1,), (2,)]\n",
      "[(3,)]\n"
     ]
    }
   ],
   "source": [
    "            email = str(input(\"Please provide your email-address: \"))\n",
    "            event_name = str(input(\"Please Enter the event name: \"))\n",
    "            event_date = str(input(\"Please Enter the event date: \"))\n",
    "            start_time = str(input(\"Please Enter the start time in hrs: \"))\n",
    "            end_time   = str(input(\"Please Enter the end time in hrs: \"))\n",
    "            event_desc = str(input(\"Please Enter the event description: \"))\n",
    "            capacity   = str(input(\"Please Enter the capacity avail: \"))\n",
    "            event_category_name = str(input(\"Please Enter the event category as watch/play/workshop: \")).lower()\n",
    "            venue_name = str(input(\"Please Enter the venue name: \")).lower()\n",
    "            create_or_join = str(input(\"Do you want to create/join the game: \")).lower()\n",
    "\n",
    "\n",
    "new_event(db,email,event_name,event_date,start_time,event_desc,capacity,event_category_name,venue_name,create_or_join)\n",
    "\n"
   ]
  },
  {
   "cell_type": "code",
   "execution_count": null,
   "metadata": {},
   "outputs": [],
   "source": []
  }
 ],
 "metadata": {
  "kernelspec": {
   "display_name": "Python 3",
   "language": "python",
   "name": "python3"
  },
  "language_info": {
   "codemirror_mode": {
    "name": "ipython",
    "version": 3
   },
   "file_extension": ".py",
   "mimetype": "text/x-python",
   "name": "python",
   "nbconvert_exporter": "python",
   "pygments_lexer": "ipython3",
   "version": "3.7.3"
  }
 },
 "nbformat": 4,
 "nbformat_minor": 2
}
