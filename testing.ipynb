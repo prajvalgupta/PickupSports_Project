{
 "cells": [
  {
   "cell_type": "code",
   "execution_count": 1,
   "metadata": {},
   "outputs": [],
   "source": [
    "import sqlite3\n",
    "db = sqlite3.connect(\"APAD_proj.db\")"
   ]
  },
  {
   "cell_type": "code",
   "execution_count": 10,
   "metadata": {},
   "outputs": [],
   "source": [
    "def new_user(db):\n",
    "\n",
    "\n",
    "    cursor = db.cursor()\n",
    "    \n",
    "\n",
    "    while(1):\n",
    "        email = str(input(\"Please provide your email-address: \"))\n",
    "        findEmail = '''SELECT * FROM user where email_id = ?'''\n",
    "\n",
    "        cursor.execute(findEmail, (email,))\n",
    "\n",
    "        if cursor.fetchall():\n",
    "            print(\"Email already registered, enter again\")\n",
    "\n",
    "        else:\n",
    "\n",
    "            first_name = str(input(\"Please Enter your first name: \"))\n",
    "            last_name = str(input(\"Please Enter your last name: \"))\n",
    "            contact_number = str(input(\"Please provide a valid contact number: \"))\n",
    "            zip_code = str(input(\"Your zip code: \"))\n",
    "            password = str(input(\"Enter the password: \")) # NEED to add constraints\n",
    "            password_check = str(input(\"Enter the password again to recheck: \"))\n",
    "\n",
    "            while password!=password_check:\n",
    "                password = str(input(\"Your passwords did not match, try again: \"))\n",
    "                password_check = str(input(\"Enter the password again to recheck: \"))\n",
    "\n",
    "            query = '''INSERT INTO user(email_id,first_name,last_name,contact_number, zip_code, password)\n",
    "                            VALUES(?,?,?,?,?,?)'''\n",
    "                \n",
    "            cursor.execute(query, (email, first_name, last_name, contact_number, zip_code, password))  \n",
    "            db.commit()\n",
    "            break\n"
   ]
  },
  {
   "cell_type": "code",
   "execution_count": 11,
   "metadata": {},
   "outputs": [
    {
     "name": "stdout",
     "output_type": "stream",
     "text": [
      "Please provide your email-address: prajvalgupta@utexas.edu\n",
      "Please Enter your first name: Prajval\n",
      "Please Enter your last name: Gupta\n",
      "Please provide a valid contact number: 7377011298\n",
      "Your zip code: 78751\n",
      "Enter the password: 123456\n",
      "Enter the password again to recheck: 123\n",
      "Your passwords did not match, try again: 123456\n",
      "Enter the password again to recheck: 123456\n"
     ]
    }
   ],
   "source": [
    "new_user(db)"
   ]
  },
  {
   "cell_type": "code",
   "execution_count": 16,
   "metadata": {},
   "outputs": [],
   "source": [
    "def new_venue(db, admin):\n",
    "    \n",
    "    cursor = db.cursor()\n",
    "\n",
    "    email = str(input(\"Please enter your email address: \"))\n",
    "    \n",
    "    while email != admin:\n",
    "        print(\"You are not authorized to add a venue\")\n",
    "        email = str(input(\"Enter your email address again: \"))\n",
    "    \n",
    "    venue_name = str(input(\"Please Enter the venue name: \"))\n",
    "    address = str(input(\"Please Enter the venue address: \"))\n",
    "    zip_code = str(input(\"Venue zip code: \"))\n",
    "    contact_number = str(input(\"Please provide a contact number: \"))\n",
    "    description = str(input(\"Enter the venue description (not more than 200 characters): \")) # Need to limit the length of input\n",
    "\n",
    "    query = '''INSERT INTO venue(venue_name, address, zip_code, contact_number, description)\n",
    "                VALUES(?,?,?,?,?)'''\n",
    "\n",
    "    # cursor = db.cursor()\n",
    "    cursor.execute(query, (venue_name, address, zip_code, contact_number, description)) \n",
    "    db.commit()\n"
   ]
  },
  {
   "cell_type": "code",
   "execution_count": 17,
   "metadata": {},
   "outputs": [
    {
     "name": "stdout",
     "output_type": "stream",
     "text": [
      "Please enter your email address: prajvalgupta@gmail.com\n",
      "Please Enter the venue name: Zilker Park\n",
      "Please Enter the venue address: Downtown\n",
      "Venue zip code: 78751\n",
      "Please provide a contact number: 888888888\n",
      "Enter the venue description (not more than 200 characters): aaaaa\n"
     ]
    }
   ],
   "source": [
    "admin_id = \"prajvalgupta@gmail.com\"\n",
    "\n",
    "new_venue(db, admin_id)\n"
   ]
  },
  {
   "cell_type": "code",
   "execution_count": null,
   "metadata": {},
   "outputs": [],
   "source": []
  }
 ],
 "metadata": {
  "kernelspec": {
   "display_name": "Python 3",
   "language": "python",
   "name": "python3"
  },
  "language_info": {
   "codemirror_mode": {
    "name": "ipython",
    "version": 3
   },
   "file_extension": ".py",
   "mimetype": "text/x-python",
   "name": "python",
   "nbconvert_exporter": "python",
   "pygments_lexer": "ipython3",
   "version": "3.7.3"
  }
 },
 "nbformat": 4,
 "nbformat_minor": 2
}
