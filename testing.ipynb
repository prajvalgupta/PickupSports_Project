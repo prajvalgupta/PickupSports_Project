{
 "cells": [
  {
   "cell_type": "code",
   "execution_count": null,
   "metadata": {},
   "outputs": [],
   "source": [
    "import sqlite3\n",
    "db = sqlite3.connect(\"APAD_proj.db\")"
   ]
  },
  {
   "cell_type": "code",
   "execution_count": null,
   "metadata": {},
   "outputs": [],
   "source": [
    "def new_user(db):\n",
    "\n",
    "\n",
    "    cursor = db.cursor()\n",
    "    \n",
    "\n",
    "    while(1):\n",
    "        email = str(input(\"Please provide your email-address: \"))\n",
    "        findEmail = '''SELECT * FROM user where email_id = ?'''\n",
    "\n",
    "        cursor.execute(findEmail, (email,))\n",
    "\n",
    "        if cursor.fetchall():\n",
    "            print(\"Email already registered, enter again\")\n",
    "\n",
    "        else:\n",
    "\n",
    "            first_name = str(input(\"Please Enter your first name: \"))\n",
    "            last_name = str(input(\"Please Enter your last name: \"))\n",
    "            contact_number = str(input(\"Please provide a valid contact number: \"))\n",
    "            zip_code = str(input(\"Your zip code: \"))\n",
    "            password = str(input(\"Enter the password: \")) # NEED to add constraints\n",
    "            password_check = str(input(\"Enter the password again to recheck: \"))\n",
    "\n",
    "            while password!=password_check:\n",
    "                password = str(input(\"Your passwords did not match, try again: \"))\n",
    "                password_check = str(input(\"Enter the password again to recheck: \"))\n",
    "\n",
    "            query = '''INSERT INTO user(email_id,first_name,last_name,cotact_number, zip_code, password)\n",
    "                            VALUES(?,?,?,?,?,?)'''\n",
    "                \n",
    "            cursor.execute(query, (email, first_name, last_name, contact_number, zip_code, password))  \n",
    "            db.commit()\n",
    "            break\n"
   ]
  },
  {
   "cell_type": "code",
   "execution_count": null,
   "metadata": {},
   "outputs": [],
   "source": [
    "new_user(db)"
   ]
  },
  {
   "cell_type": "code",
   "execution_count": null,
   "metadata": {},
   "outputs": [],
   "source": [
    "def new_venue(db, admin):\n",
    "    \n",
    "    cursor = db.cursor()\n",
    "\n",
    "    email = str(input(\"Please enter your email address: \"))\n",
    "    \n",
    "    while email != admin:\n",
    "        print(\"You are not authorized to add a venue\")\n",
    "        email = str(input(\"Enter your email address again: \"))\n",
    "    \n",
    "    venue_name = str(input(\"Please Enter the venue name: \"))\n",
    "    address = str(input(\"Please Enter the venue address: \"))\n",
    "    zip_code = str(input(\"Venue zip code: \"))\n",
    "    contact_number = str(input(\"Please provide a contact number: \"))\n",
    "    description = str(input(\"Enter the venue description (not more than 200 characters): \")) # Need to limit the length of input\n",
    "\n",
    "    query = '''INSERT INTO venue(venue_name, address, zip_code, contact_number, description)\n",
    "                VALUES(?,?,?,?,?)'''\n",
    "\n",
    "    # cursor = db.cursor()\n",
    "    cursor.execute(query, (venue_name, address, zip_code, contact_number, description)) \n",
    "    db.commit()\n"
   ]
  },
  {
   "cell_type": "code",
   "execution_count": 11,
   "metadata": {},
   "outputs": [
    {
     "ename": "NameError",
     "evalue": "name 'new_venue' is not defined",
     "output_type": "error",
     "traceback": [
      "\u001b[1;31m---------------------------------------------------------------------------\u001b[0m",
      "\u001b[1;31mNameError\u001b[0m                                 Traceback (most recent call last)",
      "\u001b[1;32m<ipython-input-11-417eb8fc4101>\u001b[0m in \u001b[0;36m<module>\u001b[1;34m\u001b[0m\n\u001b[0;32m      1\u001b[0m \u001b[0madmin_id\u001b[0m \u001b[1;33m=\u001b[0m \u001b[1;34m\"prajvalgupta@gmail.com\"\u001b[0m\u001b[1;33m\u001b[0m\u001b[1;33m\u001b[0m\u001b[0m\n\u001b[0;32m      2\u001b[0m \u001b[1;33m\u001b[0m\u001b[0m\n\u001b[1;32m----> 3\u001b[1;33m \u001b[0mnew_venue\u001b[0m\u001b[1;33m(\u001b[0m\u001b[0mdb\u001b[0m\u001b[1;33m,\u001b[0m \u001b[0madmin_id\u001b[0m\u001b[1;33m)\u001b[0m\u001b[1;33m\u001b[0m\u001b[1;33m\u001b[0m\u001b[0m\n\u001b[0m",
      "\u001b[1;31mNameError\u001b[0m: name 'new_venue' is not defined"
     ]
    }
   ],
   "source": [
    "admin_id = \"prajvalgupta@gmail.com\"\n",
    "\n",
    "new_venue(db, admin_id)\n"
   ]
  },
  {
   "cell_type": "code",
   "execution_count": 33,
   "metadata": {},
   "outputs": [
    {
     "ename": "OperationalError",
     "evalue": "database is locked",
     "output_type": "error",
     "traceback": [
      "\u001b[1;31m---------------------------------------------------------------------------\u001b[0m",
      "\u001b[1;31mOperationalError\u001b[0m                          Traceback (most recent call last)",
      "\u001b[1;32m<ipython-input-33-66438ff9f5e1>\u001b[0m in \u001b[0;36m<module>\u001b[1;34m\u001b[0m\n\u001b[0;32m      1\u001b[0m \u001b[0mcursor\u001b[0m \u001b[1;33m=\u001b[0m \u001b[0mdb\u001b[0m\u001b[1;33m.\u001b[0m\u001b[0mcursor\u001b[0m\u001b[1;33m(\u001b[0m\u001b[1;33m)\u001b[0m\u001b[1;33m\u001b[0m\u001b[1;33m\u001b[0m\u001b[0m\n\u001b[1;32m----> 2\u001b[1;33m \u001b[0mcursor\u001b[0m\u001b[1;33m.\u001b[0m\u001b[0mexecute\u001b[0m\u001b[1;33m(\u001b[0m\u001b[1;34m'''INSERT INTO event_category VALUES(1,\"play\")'''\u001b[0m\u001b[1;33m)\u001b[0m\u001b[1;33m\u001b[0m\u001b[1;33m\u001b[0m\u001b[0m\n\u001b[0m\u001b[0;32m      3\u001b[0m \u001b[0mcursor\u001b[0m\u001b[1;33m.\u001b[0m\u001b[0mexecute\u001b[0m\u001b[1;33m(\u001b[0m\u001b[1;34m'''INSERT INTO event_category VALUES(2,\"watch\")'''\u001b[0m\u001b[1;33m)\u001b[0m\u001b[1;33m\u001b[0m\u001b[1;33m\u001b[0m\u001b[0m\n\u001b[0;32m      4\u001b[0m \u001b[0mcursor\u001b[0m\u001b[1;33m.\u001b[0m\u001b[0mexecute\u001b[0m\u001b[1;33m(\u001b[0m\u001b[1;34m'''INSERT INTO event_category VALUES(3,\"workshop\")'''\u001b[0m\u001b[1;33m)\u001b[0m\u001b[1;33m\u001b[0m\u001b[1;33m\u001b[0m\u001b[0m\n\u001b[0;32m      5\u001b[0m \u001b[0mdb\u001b[0m\u001b[1;33m.\u001b[0m\u001b[0mcommit\u001b[0m\u001b[1;33m(\u001b[0m\u001b[1;33m)\u001b[0m\u001b[1;33m\u001b[0m\u001b[1;33m\u001b[0m\u001b[0m\n",
      "\u001b[1;31mOperationalError\u001b[0m: database is locked"
     ]
    }
   ],
   "source": [
    "cursor = db.cursor()\n",
    "cursor.execute('''INSERT INTO event_category VALUES(1,\"play\")''')\n",
    "cursor.execute('''INSERT INTO event_category VALUES(2,\"watch\")''')\n",
    "cursor.execute('''INSERT INTO event_category VALUES(3,\"workshop\")''')\n",
    "db.commit()"
   ]
  },
  {
   "cell_type": "code",
   "execution_count": 6,
   "metadata": {},
   "outputs": [],
   "source": [
    "cursor = db.cursor()\n",
    "cursor.execute('''insert into sports_cat values(1,\"cricket\",22,0,\"blah\")''')\n",
    "cursor.execute('''insert into sports_cat values(2,\"tennis\",4,1,\"blahhh\")''')\n",
    "db.commit()"
   ]
  },
  {
   "cell_type": "code",
   "execution_count": 22,
   "metadata": {},
   "outputs": [],
   "source": [
    "import sqlite3\n",
    "db = sqlite3.connect(\"APAD_proj.db\")"
   ]
  },
  {
   "cell_type": "code",
   "execution_count": 23,
   "metadata": {},
   "outputs": [],
   "source": [
    "def email_verify(db, email):\n",
    "    cursor = db.cursor()\n",
    "    \n",
    "    findEmail = '''SELECT email_id FROM user where email_id = ?'''\n",
    "    cursor.execute(findEmail, (email,))\n",
    "    \n",
    "    if cursor.fetchall():\n",
    "        return email\n",
    "    else:\n",
    "        print(\"You can't create an event yet. Create an account first\")\n",
    "        inputs = user_input_form()\n",
    "        new_user(db, inputs)\n",
    "        return inputs[0]"
   ]
  },
  {
   "cell_type": "code",
   "execution_count": 24,
   "metadata": {},
   "outputs": [],
   "source": [
    "def new_event(db,inputs):\n",
    "    \n",
    "    cursor = db.cursor()\n",
    "\n",
    "    if inputs[9] == \"create\":\n",
    "\n",
    "        #need to add sprts_category here\n",
    "\n",
    "        event_cat_id_query = '''SELECT event_cat_id FROM event_category where event_category_name = ?'''\n",
    "        cursor.execute(event_cat_id_query, (inputs[7],))\n",
    "        event_cat_id = cursor.fetchall()[0][0]\n",
    "\n",
    "        venue_id_query = '''SELECT venue_id FROM venue where lower(venue_name) = ?'''\n",
    "        cursor.execute(venue_id_query, (inputs[8],))\n",
    "        venue_id = cursor.fetchall()[0][0]\n",
    "\n",
    "        user_id_query = '''SELECT user_id FROM user where email_id = ?'''\n",
    "        cursor.execute(user_id_query, (inputs[0],))\n",
    "        user_id = cursor.fetchall()[0][0]\n",
    "        \n",
    "        sports_cat_id_query = '''SELECT sports_cat_id FROM sports_cat where lower(sport_name) = ?'''\n",
    "        cursor.execute(sports_cat_id_query, (inputs[10],))\n",
    "        sports_cat_id = cursor.fetchall()[0][0]\n",
    "\n",
    "        host_insert_flag = '''INSERT INTO events(event_cat_id,venue_id,event_name, date, start_time,end_time,\n",
    "                                              user_id, host_flag, member_flag, sports_cat_id, event_desc, capacity_avail)\n",
    "                       VALUES(?,?,?,?,?,?,?,?,?,?,?,?)'''\n",
    "\n",
    "\n",
    "        cursor.execute(host_insert_flag, (event_cat_id,venue_id,inputs[1],inputs[2],inputs[3],inputs[4],user_id,1,0,sports_cat_id,inputs[5], inputs[6]))  \n",
    "\n",
    "        db.commit()\n",
    "\n",
    "    elif inputs[9] == \"join\":\n",
    "\n",
    "        find_event = '''SELECT * FROM events where date = ?\n",
    "                            and start_time = ? and end_time = ?'''\n",
    "        cursor.execute(find_event, (inputs[2], inputs[3], inputs[4],))\n",
    "        p = cursor.fetchall()\n",
    "    else:\n",
    "        print(\"enter a valid option\")\n",
    "        "
   ]
  },
  {
   "cell_type": "code",
   "execution_count": 25,
   "metadata": {},
   "outputs": [],
   "source": [
    "def event_create_inputs():\n",
    "    email = str(input(\"Please provide your email-address: \"))\n",
    "    email = email_verify(db,email)\n",
    "\n",
    "    event_name = str(input(\"Please Enter the event name: \"))\n",
    "    event_date = str(input(\"Please Enter the event date: \"))\n",
    "    sport_name = str(input(\"Please Enter the sport name: \"))\n",
    "    start_time = str(input(\"Please Enter the start time in hrs: \"))\n",
    "    end_time   = str(input(\"Please Enter the end time in hrs: \"))\n",
    "    event_desc = str(input(\"Please Enter the event description: \"))\n",
    "    capacity   = str(input(\"Please Enter the capacity avail: \"))\n",
    "    event_category_name = str(input(\"Please Enter the event category as watch/play/workshop: \")).lower()\n",
    "    venue_name = str(input(\"Please Enter the venue name: \")).lower()\n",
    "    create_or_join = str(input(\"Do you want to create/join the game: \")).lower()\n",
    "    \n",
    "    inputs = [email,event_name,event_date,start_time,end_time,event_desc,capacity,event_category_name,venue_name,create_or_join,sport_name]\n",
    "    \n",
    "    return inputs\n"
   ]
  },
  {
   "cell_type": "code",
   "execution_count": 26,
   "metadata": {},
   "outputs": [
    {
     "name": "stdout",
     "output_type": "stream",
     "text": [
      "Please provide your email-address: prajvalgupta@gmail.com\n",
      "Please Enter the event name: tennis match\n",
      "Please Enter the event date: 07292019\n",
      "Please Enter the sport name: tennis\n",
      "Please Enter the start time in hrs: 1\n",
      "Please Enter the end time in hrs: 3\n",
      "Please Enter the event description: tennis match\n",
      "Please Enter the capacity avail: 4\n",
      "Please Enter the event category as watch/play/workshop: play\n",
      "Please Enter the venue name: zilker park\n",
      "Do you want to create/join the game: create\n",
      "tennis\n"
     ]
    }
   ],
   "source": [
    "inputs2 = event_create_inputs()\n",
    "if inputs2:\n",
    "    new_event(db,inputs2)\n"
   ]
  }
 ],
 "metadata": {
  "kernelspec": {
   "display_name": "Python 3",
   "language": "python",
   "name": "python3"
  },
  "language_info": {
   "codemirror_mode": {
    "name": "ipython",
    "version": 3
   },
   "file_extension": ".py",
   "mimetype": "text/x-python",
   "name": "python",
   "nbconvert_exporter": "python",
   "pygments_lexer": "ipython3",
   "version": "3.7.3"
  }
 },
 "nbformat": 4,
 "nbformat_minor": 2
}
