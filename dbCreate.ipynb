{
 "cells": [
  {
   "cell_type": "markdown",
   "metadata": {},
   "source": [
    "# Create Database"
   ]
  },
  {
   "cell_type": "code",
   "execution_count": 1,
   "metadata": {},
   "outputs": [],
   "source": [
    "# connecting to database\n",
    "import sqlite3\n",
    "db = sqlite3.connect(\"APAD_proj.db\")\n",
    "conn = db.cursor()"
   ]
  },
  {
   "cell_type": "markdown",
   "metadata": {},
   "source": [
    "# Create Tables\n",
    "#### Includes user, venue, event_category, sports_cat, feedback, events"
   ]
  },
  {
   "cell_type": "code",
   "execution_count": 3,
   "metadata": {},
   "outputs": [
    {
     "ename": "OperationalError",
     "evalue": "table user already exists",
     "output_type": "error",
     "traceback": [
      "\u001b[1;31m---------------------------------------------------------------------------\u001b[0m",
      "\u001b[1;31mOperationalError\u001b[0m                          Traceback (most recent call last)",
      "\u001b[1;32m<ipython-input-3-4b47df8138e6>\u001b[0m in \u001b[0;36m<module>\u001b[1;34m\u001b[0m\n\u001b[0;32m      8\u001b[0m                     \u001b[0mzip_code\u001b[0m \u001b[0mINTEGER\u001b[0m\u001b[1;33m(\u001b[0m\u001b[1;36m5\u001b[0m\u001b[1;33m)\u001b[0m \u001b[0mNOT\u001b[0m \u001b[0mNULL\u001b[0m\u001b[1;33m,\u001b[0m\u001b[1;33m\u001b[0m\u001b[1;33m\u001b[0m\u001b[0m\n\u001b[0;32m      9\u001b[0m                     \u001b[0mpassword\u001b[0m \u001b[0mVARCHAR\u001b[0m\u001b[1;33m(\u001b[0m\u001b[1;36m50\u001b[0m\u001b[1;33m)\u001b[0m \u001b[0mNOT\u001b[0m \u001b[0mNULL\u001b[0m\u001b[1;33m\u001b[0m\u001b[1;33m\u001b[0m\u001b[0m\n\u001b[1;32m---> 10\u001b[1;33m                     ) ''')\n\u001b[0m",
      "\u001b[1;31mOperationalError\u001b[0m: table user already exists"
     ]
    }
   ],
   "source": [
    "# create user table\n",
    "conn.execute('''CREATE TABLE user (\n",
    "                    user_id INTEGER PRIMARY KEY AUTOINCREMENT,\n",
    "                    email_id VARCHAR(50) NOT NULL UNIQUE,\n",
    "                    first_name VARCHAR(50),\n",
    "                    last_name VARCHAR(50),\n",
    "                    contact_number VARCHAR(15) NOT NULL UNIQUE,\n",
    "                    zip_code INTEGER(5) NOT NULL,\n",
    "                    password VARCHAR(50) NOT NULL\n",
    "                    ) ''')"
   ]
  },
  {
   "cell_type": "code",
   "execution_count": 10,
   "metadata": {},
   "outputs": [
    {
     "data": {
      "text/plain": [
       "<sqlite3.Cursor at 0x10ff87490>"
      ]
     },
     "execution_count": 10,
     "metadata": {},
     "output_type": "execute_result"
    }
   ],
   "source": [
    "# create venue table\n",
    "conn.execute('''CREATE TABLE venue (\n",
    "                    venue_id INTEGER PRIMARY KEY AUTOINCREMENT,\n",
    "                    venue_name VARCHAR(50) NOT NULL,\n",
    "                    address VARCHAR(100) NOT NULL,\n",
    "                    zip_code INTEGER(5) NOT NULL,\n",
    "                    contact_number VARCHAR(15),\n",
    "                    description VARCHAR(200),\n",
    "                    open_time TIME NOT NULL,\n",
    "                    close_time TIME NOT NULL,\n",
    "                    games_total_count INTEGER NOT NULL,\n",
    "                    games_available_count INTEGER NOT NULL\n",
    "                    ) ''')"
   ]
  },
  {
   "cell_type": "code",
   "execution_count": 5,
   "metadata": {},
   "outputs": [
    {
     "ename": "OperationalError",
     "evalue": "table event_category already exists",
     "output_type": "error",
     "traceback": [
      "\u001b[1;31m---------------------------------------------------------------------------\u001b[0m",
      "\u001b[1;31mOperationalError\u001b[0m                          Traceback (most recent call last)",
      "\u001b[1;32m<ipython-input-5-e75bf53911f1>\u001b[0m in \u001b[0;36m<module>\u001b[1;34m\u001b[0m\n\u001b[0;32m      2\u001b[0m                     \u001b[0mevent_cat_id\u001b[0m \u001b[0mINTEGER\u001b[0m \u001b[0mPRIMARY\u001b[0m \u001b[0mKEY\u001b[0m\u001b[1;33m,\u001b[0m\u001b[1;33m\u001b[0m\u001b[1;33m\u001b[0m\u001b[0m\n\u001b[0;32m      3\u001b[0m                     \u001b[0mevent_category_name\u001b[0m \u001b[0mVARCHAR\u001b[0m\u001b[1;33m(\u001b[0m\u001b[1;36m50\u001b[0m\u001b[1;33m)\u001b[0m \u001b[1;32mnot\u001b[0m \u001b[0mnull\u001b[0m\u001b[1;33m\u001b[0m\u001b[1;33m\u001b[0m\u001b[0m\n\u001b[1;32m----> 4\u001b[1;33m                     ) ''')\n\u001b[0m",
      "\u001b[1;31mOperationalError\u001b[0m: table event_category already exists"
     ]
    }
   ],
   "source": [
    "# create event category table\n",
    "conn.execute('''CREATE TABLE event_category (\n",
    "                    event_cat_id INTEGER PRIMARY KEY,\n",
    "                    event_category_name VARCHAR(50) not null \n",
    "                    ) ''')"
   ]
  },
  {
   "cell_type": "code",
   "execution_count": 6,
   "metadata": {},
   "outputs": [
    {
     "data": {
      "text/plain": [
       "<sqlite3.Cursor at 0x19575259e30>"
      ]
     },
     "execution_count": 6,
     "metadata": {},
     "output_type": "execute_result"
    }
   ],
   "source": [
    "# create sports category table\n",
    "conn.execute('''CREATE TABLE sports_cat(\n",
    "                sports_cat_id INTEGER PRIMARY KEY AUTOINCREMENT,\n",
    "                sport_name VARCHAR(50) NOT NULL,\n",
    "                player_count INTEGER,\n",
    "                euip_req_flag INTEGER,\n",
    "                sport_desc VARCHAR(200)\n",
    "                )''')"
   ]
  },
  {
   "cell_type": "code",
   "execution_count": 7,
   "metadata": {},
   "outputs": [
    {
     "data": {
      "text/plain": [
       "<sqlite3.Cursor at 0x19575259e30>"
      ]
     },
     "execution_count": 7,
     "metadata": {},
     "output_type": "execute_result"
    }
   ],
   "source": [
    "# create feedback table\n",
    "conn.execute('''CREATE TABLE feedback(ticket_id INTEGER UNIQUE,\n",
    "                subject VARCHAR(50),\n",
    "                description VARCHAR(100),\n",
    "                user_id INTEGER,\n",
    "                email_id VARCHAR(50),\n",
    "                FOREIGN KEY(user_id) REFERENCES user(user_id)\n",
    "                )''')"
   ]
  },
  {
   "cell_type": "code",
   "execution_count": 8,
   "metadata": {},
   "outputs": [
    {
     "data": {
      "text/plain": [
       "<sqlite3.Cursor at 0x19575259e30>"
      ]
     },
     "execution_count": 8,
     "metadata": {},
     "output_type": "execute_result"
    }
   ],
   "source": [
    "# create events table\n",
    "conn.execute('''CREATE TABLE events(event_id INTEGER PRIMARY KEY AUTOINCREMENT, \n",
    "                event_cat_id INTEGER NOT NULL, \n",
    "                venue_id INTEGER NOT NULL, \n",
    "                event_name VARCHAR(100) NOT NULL, \n",
    "                date DATE, \n",
    "                start_time TIME, \n",
    "                end_time TIME, \n",
    "                user_id INTEGER NOT NULL, \n",
    "                host_flag INTEGER,\n",
    "                member_flag INTEGER,\n",
    "                sports_cat_id INTEGER,\n",
    "                event_desc VARCHAR(200),\n",
    "                capacity_avail INTEGER,\n",
    "                FOREIGN KEY(user_id) REFERENCES user(user_id),\n",
    "                FOREIGN KEY(event_cat_id) REFERENCES event_category(event_cat_id),\n",
    "                FOREIGN KEY(venue_id) REFERENCES venue(venue_id)\n",
    "                FOREIGN KEY(sports_cat_id) REFERENCES sports_cat(sports_cat_id)\n",
    "                )''')"
   ]
  },
  {
   "cell_type": "code",
   "execution_count": 11,
   "metadata": {},
   "outputs": [],
   "source": [
    "db.commit()"
   ]
  }
 ],
 "metadata": {
  "kernelspec": {
   "display_name": "Python 3",
   "language": "python",
   "name": "python3"
  },
  "language_info": {
   "codemirror_mode": {
    "name": "ipython",
    "version": 3
   },
   "file_extension": ".py",
   "mimetype": "text/x-python",
   "name": "python",
   "nbconvert_exporter": "python",
   "pygments_lexer": "ipython3",
   "version": "3.7.3"
  }
 },
 "nbformat": 4,
 "nbformat_minor": 2
}
